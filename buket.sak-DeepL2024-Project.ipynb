{
 "cells": [
  {
   "cell_type": "markdown",
   "metadata": {},
   "source": [
    "<center>\n",
    "<h4></h4>\n",
    "<h1><b>Negation </b></h1>\n",
    "<h2>Deep Learning - Final Project</h2>\n",
    "<h3>Buket Sak, Kascha Kruschwitz, Ludmila Bajuk </h3>\n",
    "</center>"
   ]
  },
  {
   "cell_type": "markdown",
   "metadata": {},
   "source": [
    "In this project, we developed a series of machine learning models to perform binary classification task on our text data. This project involves series of steps, from using GPT-Neo to fine-tuning BERT-based models and the custom models.\n",
    "\n",
    "We first investigated the potential of Few-Shot learning, classifying text pairs to determine whether a given hypothesis is a negated version of a premise, by feeding the model with examples using the GPT-Neo model. \n",
    "\n",
    "Next, we applied more robust and fine-tuned method using BERT-based classifier using \"bert_base_en_uncased\"(which is case-insensitive). While compling the model, as we have binary classification task, we used \"binary crossentropy\" as a loss function, \"Adam\" as an optimizer which adapts the learning rate for each parameter, \"accuracy\" as the evaluation metric. These metrics were tracked over multiple epochs to monitor the model’s performance.\n",
    "\n",
    "Additionaly, we developed Model 2, a fully connected neural network that used the pooled embeddings from BERT as input, with multiple dense layers with ReLU activations.\n",
    "\n",
    "Furhermore, Model 3 was an LSTM-based model that processed sequence embeddings from BERT.\n",
    "\n",
    "We also used confusion matrices and visualizations to evaluate and compare models performance, to understand how each model handled the classification task. Laslty, we created a comprehensive table that displayed actual and predicted labels across all models for specific samples.\n",
    "\n",
    "About the dataset: It focuses on negated textual pairs.\n",
    "It is taken from GitHub repository. \n",
    "Related link: https://github.com/dmlls/cannot-dataset/blob/main/README.md"
   ]
  },
  {
   "cell_type": "code",
   "execution_count": 1,
   "metadata": {
    "_cell_guid": "b1076dfc-b9ad-4769-8c92-a6c4dae69d19",
    "_uuid": "8f2839f25d086af736a60e9eeb907d3b93b6e0e5",
    "execution": {
     "iopub.execute_input": "2024-08-12T17:48:13.747473Z",
     "iopub.status.busy": "2024-08-12T17:48:13.747069Z",
     "iopub.status.idle": "2024-08-12T17:48:48.698416Z",
     "shell.execute_reply": "2024-08-12T17:48:48.697563Z",
     "shell.execute_reply.started": "2024-08-12T17:48:13.747431Z"
    }
   },
   "outputs": [
    {
     "name": "stdout",
     "output_type": "stream",
     "text": [
      "\u001b[31mERROR: pip's dependency resolver does not currently take into account all the packages that are installed. This behaviour is the source of the following dependency conflicts.\n",
      "tensorflow-decision-forests 1.8.1 requires wurlitzer, which is not installed.\u001b[0m\u001b[31m\n",
      "\u001b[0m\u001b[31mERROR: pip's dependency resolver does not currently take into account all the packages that are installed. This behaviour is the source of the following dependency conflicts.\n",
      "tensorflow-decision-forests 1.8.1 requires wurlitzer, which is not installed.\n",
      "tensorflow 2.15.0 requires keras<2.16,>=2.15.0, but you have keras 3.4.1 which is incompatible.\u001b[0m\u001b[31m\n",
      "\u001b[0m"
     ]
    },
    {
     "name": "stderr",
     "output_type": "stream",
     "text": [
      "2024-08-12 17:48:41.203670: E external/local_xla/xla/stream_executor/cuda/cuda_dnn.cc:9261] Unable to register cuDNN factory: Attempting to register factory for plugin cuDNN when one has already been registered\n",
      "2024-08-12 17:48:41.203720: E external/local_xla/xla/stream_executor/cuda/cuda_fft.cc:607] Unable to register cuFFT factory: Attempting to register factory for plugin cuFFT when one has already been registered\n",
      "2024-08-12 17:48:41.205244: E external/local_xla/xla/stream_executor/cuda/cuda_blas.cc:1515] Unable to register cuBLAS factory: Attempting to register factory for plugin cuBLAS when one has already been registered\n"
     ]
    }
   ],
   "source": [
    "!pip install -q --upgrade keras-nlp\n",
    "!pip install -q --upgrade keras\n",
    "\n",
    "import numpy as np\n",
    "import tensorflow as tf\n",
    "import keras\n",
    "import keras_nlp\n",
    "import tensorflow_datasets as tfds\n",
    "from tensorflow.keras.utils import to_categorical\n",
    "import matplotlib.pyplot as plt\n",
    "import torch\n",
    "from tensorflow.keras import layers\n",
    "from tensorflow.keras.models import Sequential\n",
    "from IPython.display import display\n",
    "import pandas as pd\n",
    "import random\n",
    "from statistics import mean\n",
    "import matplotlib.pyplot as plt\n",
    "from sklearn import metrics\n",
    "from sklearn.metrics import accuracy_score, f1_score, classification_report, confusion_matrix\n",
    "import time\n",
    "import transformers\n",
    "from transformers import AutoTokenizer, GPTNeoForCausalLM"
   ]
  },
  {
   "cell_type": "code",
   "execution_count": 2,
   "metadata": {
    "execution": {
     "iopub.execute_input": "2024-08-12T17:48:51.612858Z",
     "iopub.status.busy": "2024-08-12T17:48:51.612252Z",
     "iopub.status.idle": "2024-08-12T17:48:54.112564Z",
     "shell.execute_reply": "2024-08-12T17:48:54.111559Z",
     "shell.execute_reply.started": "2024-08-12T17:48:51.612827Z"
    }
   },
   "outputs": [
    {
     "name": "stderr",
     "output_type": "stream",
     "text": [
      "/opt/conda/lib/python3.10/pty.py:89: RuntimeWarning: os.fork() was called. os.fork() is incompatible with multithreaded code, and JAX is multithreaded, so this will likely lead to a deadlock.\n",
      "  pid, fd = os.forkpty()\n"
     ]
    }
   ],
   "source": [
    "!pip3 freeze > requirements.txt"
   ]
  },
  {
   "cell_type": "code",
   "execution_count": null,
   "metadata": {},
   "outputs": [],
   "source": [
    "#load from google drive\n",
    "from google.colab import drive\n",
    "drive.mount('/content/drive')\n",
    "\n",
    "dataset = pd.read_csv('/content/drive/MyDrive/Colab Notebooks/cannot_dataset_v1.1.tsv', sep='\\t')"
   ]
  },
  {
   "cell_type": "code",
   "execution_count": 3,
   "metadata": {
    "execution": {
     "iopub.execute_input": "2024-08-12T17:48:58.304221Z",
     "iopub.status.busy": "2024-08-12T17:48:58.303515Z",
     "iopub.status.idle": "2024-08-12T17:48:58.496463Z",
     "shell.execute_reply": "2024-08-12T17:48:58.495608Z",
     "shell.execute_reply.started": "2024-08-12T17:48:58.304189Z"
    }
   },
   "outputs": [],
   "source": [
    "# load in kaggle\n",
    "import pandas as pd\n",
    "\n",
    "dataset = pd.read_csv('/kaggle/input/cannot-dataset/cannot_dataset_v1.1.tsv', sep='\\t')"
   ]
  },
  {
   "cell_type": "code",
   "execution_count": null,
   "metadata": {},
   "outputs": [],
   "source": [
    "# load in hulk server\n",
    "import pandas as pd\n",
    "\n",
    "dataset = pd.read_csv('cannot_dataset_v1.1.tsv', sep='\\t')"
   ]
  },
  {
   "cell_type": "markdown",
   "metadata": {},
   "source": [
    "## GPU settings"
   ]
  },
  {
   "cell_type": "code",
   "execution_count": 4,
   "metadata": {
    "execution": {
     "iopub.execute_input": "2024-08-12T17:49:04.961410Z",
     "iopub.status.busy": "2024-08-12T17:49:04.960522Z",
     "iopub.status.idle": "2024-08-12T17:49:05.046507Z",
     "shell.execute_reply": "2024-08-12T17:49:05.045532Z",
     "shell.execute_reply.started": "2024-08-12T17:49:04.961378Z"
    }
   },
   "outputs": [
    {
     "name": "stdout",
     "output_type": "stream",
     "text": [
      "There are 2 GPU(s) available.\n",
      "Device name: Tesla T4\n"
     ]
    }
   ],
   "source": [
    "# check if GPU\n",
    "if torch.cuda.is_available(): #check if GPU is available\n",
    "    device = torch.device(\"cuda:1\") #set device, we need this later to push our model and the data to the GPU to perform computations\n",
    "    print(f'There are {torch.cuda.device_count()} GPU(s) available.')\n",
    "    print('Device name:', torch.cuda.get_device_name(0))\n",
    "\n",
    "else:\n",
    "    print('No GPU available, using the CPU instead.')\n",
    "    device = torch.device(\"cpu\")"
   ]
  },
  {
   "cell_type": "code",
   "execution_count": 5,
   "metadata": {
    "execution": {
     "iopub.execute_input": "2024-08-12T17:49:07.482113Z",
     "iopub.status.busy": "2024-08-12T17:49:07.481344Z",
     "iopub.status.idle": "2024-08-12T17:49:08.579164Z",
     "shell.execute_reply": "2024-08-12T17:49:08.578191Z",
     "shell.execute_reply.started": "2024-08-12T17:49:07.482079Z"
    }
   },
   "outputs": [
    {
     "name": "stderr",
     "output_type": "stream",
     "text": [
      "/opt/conda/lib/python3.10/pty.py:89: RuntimeWarning: os.fork() was called. os.fork() is incompatible with multithreaded code, and JAX is multithreaded, so this will likely lead to a deadlock.\n",
      "  pid, fd = os.forkpty()\n"
     ]
    },
    {
     "name": "stdout",
     "output_type": "stream",
     "text": [
      "Mon Aug 12 17:49:08 2024       \n",
      "+-----------------------------------------------------------------------------------------+\n",
      "| NVIDIA-SMI 550.90.07              Driver Version: 550.90.07      CUDA Version: 12.4     |\n",
      "|-----------------------------------------+------------------------+----------------------+\n",
      "| GPU  Name                 Persistence-M | Bus-Id          Disp.A | Volatile Uncorr. ECC |\n",
      "| Fan  Temp   Perf          Pwr:Usage/Cap |           Memory-Usage | GPU-Util  Compute M. |\n",
      "|                                         |                        |               MIG M. |\n",
      "|=========================================+========================+======================|\n",
      "|   0  Tesla T4                       Off |   00000000:00:04.0 Off |                    0 |\n",
      "| N/A   53C    P8              9W /   70W |       3MiB /  15360MiB |      0%      Default |\n",
      "|                                         |                        |                  N/A |\n",
      "+-----------------------------------------+------------------------+----------------------+\n",
      "|   1  Tesla T4                       Off |   00000000:00:05.0 Off |                    0 |\n",
      "| N/A   52C    P8             10W /   70W |       3MiB /  15360MiB |      0%      Default |\n",
      "|                                         |                        |                  N/A |\n",
      "+-----------------------------------------+------------------------+----------------------+\n",
      "                                                                                         \n",
      "+-----------------------------------------------------------------------------------------+\n",
      "| Processes:                                                                              |\n",
      "|  GPU   GI   CI        PID   Type   Process name                              GPU Memory |\n",
      "|        ID   ID                                                               Usage      |\n",
      "|=========================================================================================|\n",
      "|  No running processes found                                                             |\n",
      "+-----------------------------------------------------------------------------------------+\n"
     ]
    }
   ],
   "source": [
    "# see what is happening\n",
    "!nvidia-smi"
   ]
  },
  {
   "cell_type": "code",
   "execution_count": 6,
   "metadata": {
    "execution": {
     "iopub.execute_input": "2024-08-12T17:49:11.252348Z",
     "iopub.status.busy": "2024-08-12T17:49:11.251805Z",
     "iopub.status.idle": "2024-08-12T17:49:11.260567Z",
     "shell.execute_reply": "2024-08-12T17:49:11.259509Z",
     "shell.execute_reply.started": "2024-08-12T17:49:11.252314Z"
    }
   },
   "outputs": [
    {
     "name": "stdout",
     "output_type": "stream",
     "text": [
      "Using GPU 0.\n",
      "There are 2 GPU(s) available.\n",
      "GPU 0 name: Tesla T4\n",
      "GPU 1 name: Tesla T4\n",
      "Current GPU: 0\n"
     ]
    }
   ],
   "source": [
    "# select a specific GPU\n",
    "selected_gpu = 0  # Change this to 0, 1, or 2 depending on which GPU you want to use\n",
    "\n",
    "# Check if the specified GPU is available\n",
    "if torch.cuda.is_available() and selected_gpu < torch.cuda.device_count():\n",
    "    torch.cuda.set_device(selected_gpu)  # Set the selected GPU as the current device\n",
    "    device = torch.device(f\"cuda:{selected_gpu}\")\n",
    "    print(f'Using GPU {selected_gpu}.')\n",
    "    print(f'There are {torch.cuda.device_count()} GPU(s) available.')\n",
    "    for i in range(torch.cuda.device_count()):\n",
    "        print(f'GPU {i} name:', torch.cuda.get_device_name(i))\n",
    "    print('Current GPU:', torch.cuda.current_device())\n",
    "\n",
    "else:\n",
    "    print('No specified GPU available, using the CPU instead.')\n",
    "    device = torch.device(\"cpu\")"
   ]
  },
  {
   "cell_type": "markdown",
   "metadata": {},
   "source": [
    "# Data Exploration and Preprocessing"
   ]
  },
  {
   "cell_type": "markdown",
   "metadata": {},
   "source": [
    "## Exploration"
   ]
  },
  {
   "cell_type": "code",
   "execution_count": 7,
   "metadata": {
    "execution": {
     "iopub.execute_input": "2024-08-12T17:49:14.826238Z",
     "iopub.status.busy": "2024-08-12T17:49:14.825585Z",
     "iopub.status.idle": "2024-08-12T17:49:15.093787Z",
     "shell.execute_reply": "2024-08-12T17:49:15.092906Z",
     "shell.execute_reply.started": "2024-08-12T17:49:14.826206Z"
    }
   },
   "outputs": [
    {
     "name": "stdout",
     "output_type": "stream",
     "text": [
      "Label 1: 39989 samples, which is 51.68% of the dataset.\n",
      "Label 0: 37387 samples, which is 48.32% of the dataset.\n"
     ]
    },
    {
     "data": {
      "image/png": "[encoded data removed]",
      "text/plain": [
       "<Figure size 500x300 with 1 Axes>"
      ]
     },
     "metadata": {},
     "output_type": "display_data"
    }
   ],
   "source": [
    "# count labels to see if evenly distributed\n",
    "\n",
    "lables = dataset[\"label\"]\n",
    "\n",
    "label_count = {}\n",
    "for i in lables:\n",
    "    i = str(i)\n",
    "    if i in label_count:\n",
    "        label_count[i] += 1\n",
    "    else:\n",
    "        label_count[i] = 1\n",
    "\n",
    "\n",
    "total_samples = sum(label_count.values())\n",
    "\n",
    "for label, count in label_count.items():\n",
    "    percentage = (count / total_samples) * 100\n",
    "    print(f\"Label {label}: {count} samples, which is {percentage:.2f}% of the dataset.\")\n",
    "\n",
    "labels = list(label_count.keys())\n",
    "counts = list(label_count.values())\n",
    "plt.figure(figsize=(5, 3))\n",
    "\n",
    "plt.bar(labels, counts, color=['#ffadad', '#caffbf'])\n",
    "plt.xlabel('Labels')\n",
    "plt.ylabel('Counts')\n",
    "plt.title('Label Distribution')\n",
    "plt.show()"
   ]
  },
  {
   "cell_type": "markdown",
   "metadata": {},
   "source": [
    "Our labels are almost balanced with a slight difference towards label 1. Also, the dataset is fairly balanced giving roughly 51% and 48%."
   ]
  },
  {
   "cell_type": "markdown",
   "metadata": {},
   "source": [
    "Shuffle the data: To ensure that the data is randomly mixed before splitting it into training and testing sets.\n"
   ]
  },
  {
   "cell_type": "code",
   "execution_count": 8,
   "metadata": {
    "execution": {
     "iopub.execute_input": "2024-08-12T17:49:19.071900Z",
     "iopub.status.busy": "2024-08-12T17:49:19.071034Z",
     "iopub.status.idle": "2024-08-12T17:49:19.172421Z",
     "shell.execute_reply": "2024-08-12T17:49:19.171487Z",
     "shell.execute_reply.started": "2024-08-12T17:49:19.071868Z"
    }
   },
   "outputs": [
    {
     "name": "stdout",
     "output_type": "stream",
     "text": [
      "77376 rows x 3 columns\n"
     ]
    },
    {
     "data": {
      "text/html": [
       "<style type=\"text/css\">\n",
       "#T_91fc1_row0_col0, #T_91fc1_row0_col1, #T_91fc1_row0_col2, #T_91fc1_row1_col0, #T_91fc1_row1_col1, #T_91fc1_row1_col2, #T_91fc1_row2_col0, #T_91fc1_row2_col1, #T_91fc1_row2_col2, #T_91fc1_row3_col0, #T_91fc1_row3_col1, #T_91fc1_row3_col2, #T_91fc1_row4_col0, #T_91fc1_row4_col1, #T_91fc1_row4_col2, #T_91fc1_row5_col0, #T_91fc1_row5_col1, #T_91fc1_row5_col2, #T_91fc1_row6_col0, #T_91fc1_row6_col1, #T_91fc1_row6_col2, #T_91fc1_row7_col0, #T_91fc1_row7_col1, #T_91fc1_row7_col2, #T_91fc1_row8_col0, #T_91fc1_row8_col1, #T_91fc1_row8_col2, #T_91fc1_row9_col0, #T_91fc1_row9_col1, #T_91fc1_row9_col2 {\n",
       "  text-align: left;\n",
       "  font-size: 12pt;\n",
       "  background-color: white;\n",
       "}\n",
       "</style>\n",
       "<table id=\"T_91fc1\">\n",
       "  <thead>\n",
       "    <tr>\n",
       "      <th class=\"blank level0\" >&nbsp;</th>\n",
       "      <th id=\"T_91fc1_level0_col0\" class=\"col_heading level0 col0\" >premise</th>\n",
       "      <th id=\"T_91fc1_level0_col1\" class=\"col_heading level0 col1\" >hypothesis</th>\n",
       "      <th id=\"T_91fc1_level0_col2\" class=\"col_heading level0 col2\" >label</th>\n",
       "    </tr>\n",
       "  </thead>\n",
       "  <tbody>\n",
       "    <tr>\n",
       "      <th id=\"T_91fc1_level0_row0\" class=\"row_heading level0 row0\" >26404</th>\n",
       "      <td id=\"T_91fc1_row0_col0\" class=\"data row0 col0\" >In November 2011 European Court of Justice refused to confirm this opinion in a ruling.</td>\n",
       "      <td id=\"T_91fc1_row0_col1\" class=\"data row0 col1\" >In November 2011 European Court of Justice mainly confirmed this opinion in a ruling.</td>\n",
       "      <td id=\"T_91fc1_row0_col2\" class=\"data row0 col2\" >1</td>\n",
       "    </tr>\n",
       "    <tr>\n",
       "      <th id=\"T_91fc1_level0_row1\" class=\"row_heading level0 row1\" >7481</th>\n",
       "      <td id=\"T_91fc1_row1_col0\" class=\"data row1 col0\" >The city is designated as a Million Plus Urban Agglomeration as per Government terminology.</td>\n",
       "      <td id=\"T_91fc1_row1_col1\" class=\"data row1 col1\" >The city is designated as an Under a Million Urban Agglomeration as per Government terminology.</td>\n",
       "      <td id=\"T_91fc1_row1_col2\" class=\"data row1 col2\" >1</td>\n",
       "    </tr>\n",
       "    <tr>\n",
       "      <th id=\"T_91fc1_level0_row2\" class=\"row_heading level0 row2\" >36957</th>\n",
       "      <td id=\"T_91fc1_row2_col0\" class=\"data row2 col0\" >There are protections against discrimination based on sexual orientation.</td>\n",
       "      <td id=\"T_91fc1_row2_col1\" class=\"data row2 col1\" >Danish law includes protections against discrimination based on sexual orientation and gender identity/expression.</td>\n",
       "      <td id=\"T_91fc1_row2_col2\" class=\"data row2 col2\" >0</td>\n",
       "    </tr>\n",
       "    <tr>\n",
       "      <th id=\"T_91fc1_level0_row3\" class=\"row_heading level0 row3\" >52424</th>\n",
       "      <td id=\"T_91fc1_row3_col0\" class=\"data row3 col0\" >But it can be declared deprecated : A coded character whose use is highly recommended.</td>\n",
       "      <td id=\"T_91fc1_row3_col1\" class=\"data row3 col1\" >But it can be declared deprecated : A coded character whose use is strongly discouraged.</td>\n",
       "      <td id=\"T_91fc1_row3_col2\" class=\"data row3 col2\" >1</td>\n",
       "    </tr>\n",
       "    <tr>\n",
       "      <th id=\"T_91fc1_level0_row4\" class=\"row_heading level0 row4\" >54858</th>\n",
       "      <td id=\"T_91fc1_row4_col0\" class=\"data row4 col0\" >I'm not bad today.</td>\n",
       "      <td id=\"T_91fc1_row4_col1\" class=\"data row4 col1\" >I'm bad today.</td>\n",
       "      <td id=\"T_91fc1_row4_col2\" class=\"data row4 col2\" >1</td>\n",
       "    </tr>\n",
       "    <tr>\n",
       "      <th id=\"T_91fc1_level0_row5\" class=\"row_heading level0 row5\" >51856</th>\n",
       "      <td id=\"T_91fc1_row5_col0\" class=\"data row5 col0\" >The magnetic moment of the antineutron is the opposite of that of the neutron.</td>\n",
       "      <td id=\"T_91fc1_row5_col1\" class=\"data row5 col1\" >The magnetic moment of the antineutron is the same as that of the neutron.</td>\n",
       "      <td id=\"T_91fc1_row5_col2\" class=\"data row5 col2\" >1</td>\n",
       "    </tr>\n",
       "    <tr>\n",
       "      <th id=\"T_91fc1_level0_row6\" class=\"row_heading level0 row6\" >53737</th>\n",
       "      <td id=\"T_91fc1_row6_col0\" class=\"data row6 col0\" >Conferences and seminars were conducted by him.</td>\n",
       "      <td id=\"T_91fc1_row6_col1\" class=\"data row6 col1\" >He was also instrumental in conducting conferences and seminars.</td>\n",
       "      <td id=\"T_91fc1_row6_col2\" class=\"data row6 col2\" >0</td>\n",
       "    </tr>\n",
       "    <tr>\n",
       "      <th id=\"T_91fc1_level0_row7\" class=\"row_heading level0 row7\" >24145</th>\n",
       "      <td id=\"T_91fc1_row7_col0\" class=\"data row7 col0\" >The only way the movie could be redeemed was as a comedy.</td>\n",
       "      <td id=\"T_91fc1_row7_col1\" class=\"data row7 col1\" >The only possible way this movie could be redeemed would be as MST3K fodder.</td>\n",
       "      <td id=\"T_91fc1_row7_col2\" class=\"data row7 col2\" >0</td>\n",
       "    </tr>\n",
       "    <tr>\n",
       "      <th id=\"T_91fc1_level0_row8\" class=\"row_heading level0 row8\" >53162</th>\n",
       "      <td id=\"T_91fc1_row8_col0\" class=\"data row8 col0\" >Lastly, research continues in the other domains of the electromagnetic spectrum, including visible light.</td>\n",
       "      <td id=\"T_91fc1_row8_col1\" class=\"data row8 col1\" >Research continues in the other areas of the spectrum.</td>\n",
       "      <td id=\"T_91fc1_row8_col2\" class=\"data row8 col2\" >0</td>\n",
       "    </tr>\n",
       "    <tr>\n",
       "      <th id=\"T_91fc1_level0_row9\" class=\"row_heading level0 row9\" >62465</th>\n",
       "      <td id=\"T_91fc1_row9_col0\" class=\"data row9 col0\" >The material's efficiency was partially reduced by the action of sea water.</td>\n",
       "      <td id=\"T_91fc1_row9_col1\" class=\"data row9 col1\" >The material's efficiency was increased by several times due to the action of sea water.</td>\n",
       "      <td id=\"T_91fc1_row9_col2\" class=\"data row9 col2\" >1</td>\n",
       "    </tr>\n",
       "  </tbody>\n",
       "</table>\n"
      ],
      "text/plain": [
       "<pandas.io.formats.style.Styler at 0x7c0920fa01f0>"
      ]
     },
     "execution_count": 8,
     "metadata": {},
     "output_type": "execute_result"
    }
   ],
   "source": [
    "# shuffle rows of a df using a random seed - so that training and test data are in a random order, adopted from andrea\n",
    "# Set a random seed for reproducibility\n",
    "random_seed = 42\n",
    "random.seed(random_seed)\n",
    "\n",
    "# Shuffle the rows but keep original indices\n",
    "dataset = dataset.sample(frac=1, random_state=random_seed)\n",
    "\n",
    "# Initialize the DataFrame\n",
    "df = pd.DataFrame(dataset)\n",
    "\n",
    "# Print the summary first\n",
    "print(f\"{df.shape[0]} rows x {df.shape[1]} columns\")\n",
    "#Displaying the First 10 Rows\n",
    "styled_df = dataset.head(10).style.set_properties(**{\n",
    "    'text-align': 'left',\n",
    "    'font-size': '12pt',\n",
    "    'background-color': 'white'\n",
    "})\n",
    "styled_df"
   ]
  },
  {
   "cell_type": "markdown",
   "metadata": {},
   "source": [
    "Now, we take the specific row indices from the original DataFrame and determined where these rows end up after the DataFrame has been shuffled. We did this to ensure that the process is handled correctly."
   ]
  },
  {
   "cell_type": "code",
   "execution_count": 9,
   "metadata": {
    "execution": {
     "iopub.execute_input": "2024-08-12T17:49:24.247808Z",
     "iopub.status.busy": "2024-08-12T17:49:24.244797Z",
     "iopub.status.idle": "2024-08-12T17:49:24.266938Z",
     "shell.execute_reply": "2024-08-12T17:49:24.265853Z",
     "shell.execute_reply.started": "2024-08-12T17:49:24.247737Z"
    }
   },
   "outputs": [
    {
     "name": "stdout",
     "output_type": "stream",
     "text": [
      "Antonym Indices:\n",
      "Original        Shuffled       \n",
      "50487           2884           \n",
      "41715           52987          \n",
      "32427           71555          \n",
      "48323           11800          \n",
      "27068           44436          \n",
      "\n",
      "Negation Indices:\n",
      "Original        Shuffled       \n",
      "57658           34924          \n",
      "37518           18576          \n",
      "14465           51686          \n",
      "42008           31695          \n",
      "560             69603          \n",
      "\n",
      "Paraphrased Indices:\n",
      "Original        Shuffled       \n",
      "6543            10711          \n",
      "51922           7804           \n",
      "16802           54667          \n",
      "66953           32607          \n",
      "24641           52258          \n",
      "14896           22606          \n",
      "20770           2446           \n",
      "70327           33520          \n",
      "34157           76091          \n",
      "64309           75430          \n"
     ]
    }
   ],
   "source": [
    "# Lists of Row Names from the Original Dataframe\n",
    "antonym_row_names = [50487, 41715, 32427, 48323, 27068]\n",
    "negation_row_names = [57658, 37518, 14465, 42008, 560]\n",
    "paraphrased_row_names = [6543, 51922, 16802, 66953, 24641, 14896, 20770, 70327, 34157, 64309]\n",
    "\n",
    "# Takes a list of row names  and \n",
    "#returns a list of their new positions in the shuffled DataFrame\n",
    "def get_df_index(row_names):\n",
    "  index_list = []\n",
    "  for i in row_names:\n",
    "    index_list.append(dataset.index.get_loc(dataset.loc[i].name))\n",
    "  return index_list\n",
    "\n",
    "antonym_index = get_df_index(antonym_row_names)\n",
    "negation_index = get_df_index(negation_row_names)\n",
    "paraphrased_index = get_df_index(paraphrased_row_names)\n",
    "\n",
    "# Print the results\n",
    "print(\"Antonym Indices:\")\n",
    "print(f\"{'Original':<15} {'Shuffled':<15}\")\n",
    "for original, new in zip(antonym_row_names, antonym_index):\n",
    "    print(f\"{original:<15} {new:<15}\")\n",
    "\n",
    "print(\"\\nNegation Indices:\")\n",
    "print(f\"{'Original':<15} {'Shuffled':<15}\")\n",
    "for original, new in zip(negation_row_names, negation_index):\n",
    "    print(f\"{original:<15} {new:<15}\")\n",
    "\n",
    "print(\"\\nParaphrased Indices:\")\n",
    "print(f\"{'Original':<15} {'Shuffled':<15}\")\n",
    "for original, new in zip(paraphrased_row_names, paraphrased_index):\n",
    "    print(f\"{original:<15} {new:<15}\")"
   ]
  },
  {
   "cell_type": "markdown",
   "metadata": {},
   "source": [
    "Then we analyzed distribution of token lengths for premise and hypothesis coloumns. \n",
    "The max sequence length we decided on in the preprocessing is 32, but this includes both sentences, so the max-length for an individual sentence will be 16."
   ]
  },
  {
   "cell_type": "code",
   "execution_count": 10,
   "metadata": {
    "execution": {
     "iopub.execute_input": "2024-08-12T17:49:41.865205Z",
     "iopub.status.busy": "2024-08-12T17:49:41.864796Z",
     "iopub.status.idle": "2024-08-12T17:49:43.269188Z",
     "shell.execute_reply": "2024-08-12T17:49:43.267079Z",
     "shell.execute_reply.started": "2024-08-12T17:49:41.865173Z"
    }
   },
   "outputs": [
    {
     "name": "stdout",
     "output_type": "stream",
     "text": [
      "Analysis of the 'premise' column:\n",
      "Minimum length of sequences: 1\n",
      "Maximum length of sequences: 58\n",
      "Average length of sequences: 10.69\n",
      "Number of sequences < 16 tokens: 72317\n",
      "Percentage of sequences < 16 tokens: 93.46%\n",
      "Number of sequences >= 16 tokens: 5059\n",
      "Percentage of sequences >= 16 tokens: 6.54%\n",
      "\n",
      "\n",
      "Analysis of the 'hypothesis' column:\n",
      "Minimum length of sequences: 1\n",
      "Maximum length of sequences: 58\n",
      "Average length of sequences: 10.69\n",
      "Number of sequences < 16 tokens: 72317\n",
      "Percentage of sequences < 16 tokens: 93.46%\n",
      "Number of sequences >= 16 tokens: 5059\n",
      "Percentage of sequences >= 16 tokens: 6.54%\n",
      "\n",
      "\n"
     ]
    },
    {
     "data": {
      "image/png": "[encoded data removed]",
      "text/plain": [
       "<Figure size 500x300 with 1 Axes>"
      ]
     },
     "metadata": {},
     "output_type": "display_data"
    }
   ],
   "source": [
    "# Define the max_len function - rough approximation because split by whitespace\n",
    "def max_len(column):\n",
    "    lent = [len(str(i).split(\" \")) for i in dataset[column]]\n",
    "    return min(lent), max(lent), np.mean(lent)\n",
    "\n",
    "def analyze_sequence_lengths(dataset, column, threshold=16):\n",
    "    # Using the max_len function to get the min, max, and average lengths\n",
    "    min_len, max_len_val, avg_len = max_len(column)\n",
    "\n",
    "    # Calculate the lengths of all sequences\n",
    "    sequence_lengths = [len(str(i).split(\" \")) for i in dataset[column]]\n",
    "\n",
    "    # Count how many sequences are longer than or equal to the threshold\n",
    "    longer_sequences = [length for length in sequence_lengths if length >= threshold]\n",
    "    percentage_longer_sequences = (len(longer_sequences) / len(sequence_lengths)) * 100\n",
    "\n",
    "    # Count how many sequences are shorter than to the threshold\n",
    "    shorter_sequences = [length for length in sequence_lengths if length < threshold]\n",
    "    percentage_shorter_sequences = (len(shorter_sequences) / len(sequence_lengths)) * 100\n",
    "\n",
    "    # Print the results\n",
    "    print(f\"Analysis of the '{column}' column:\")\n",
    "    print(f\"Minimum length of sequences: {min_len}\")\n",
    "    print(f\"Maximum length of sequences: {max_len_val}\")\n",
    "    print(f\"Average length of sequences: {avg_len:.2f}\")\n",
    "    print(f\"Number of sequences < {threshold} tokens: {len(shorter_sequences)}\")\n",
    "    print(f\"Percentage of sequences < {threshold} tokens: {percentage_shorter_sequences:.2f}%\")\n",
    "    print(f\"Number of sequences >= {threshold} tokens: {len(longer_sequences)}\")\n",
    "    print(f\"Percentage of sequences >= {threshold} tokens: {percentage_longer_sequences:.2f}%\")\n",
    "    print(\"\\n\")\n",
    "\n",
    "    return sequence_lengths, len(longer_sequences), percentage_longer_sequences\n",
    "\n",
    "# Analyzing the 'premise' and 'hypothesis' columns\n",
    "premise_lengths, premise_longer_count, premise_longer_percentage = analyze_sequence_lengths(dataset, \"premise\")\n",
    "hypothesis_lengths, hypothesis_longer_count, hypothesis_longer_percentage = analyze_sequence_lengths(dataset, \"hypothesis\")\n",
    "\n",
    "plt.figure(figsize=(5, 3))\n",
    "\n",
    "plt.hist(premise_lengths, bins=50, alpha=1, label='Premise Lengths', color=\"#ffc6ff\")\n",
    "plt.hist(hypothesis_lengths, bins=50, alpha=1, label='Hypothesis Lengths', color = \"#a0c4ff\")\n",
    "\n",
    "plt.axvline(x=16, color='red', linestyle='--', label='Threshold = 16 tokens')\n",
    "\n",
    "plt.title('Distribution of Sequence Lengths')\n",
    "plt.xlabel('Number of Tokens')\n",
    "plt.ylabel('Frequency')\n",
    "plt.legend()\n",
    "plt.show()"
   ]
  },
  {
   "cell_type": "markdown",
   "metadata": {},
   "source": [
    "## Pre-processing"
   ]
  },
  {
   "cell_type": "code",
   "execution_count": 11,
   "metadata": {
    "execution": {
     "iopub.execute_input": "2024-08-12T17:49:46.592227Z",
     "iopub.status.busy": "2024-08-12T17:49:46.591831Z",
     "iopub.status.idle": "2024-08-12T17:50:01.704527Z",
     "shell.execute_reply": "2024-08-12T17:50:01.703749Z",
     "shell.execute_reply.started": "2024-08-12T17:49:46.592196Z"
    }
   },
   "outputs": [
    {
     "name": "stdout",
     "output_type": "stream",
     "text": [
      "Attaching 'model.safetensors' from model 'keras/bert/keras/bert_base_en_uncased/2' to your Kaggle notebook...\n",
      "Attaching 'model.safetensors.index.json' from model 'keras/bert/keras/bert_base_en_uncased/2' to your Kaggle notebook...\n",
      "Attaching 'metadata.json' from model 'keras/bert/keras/bert_base_en_uncased/2' to your Kaggle notebook...\n",
      "Attaching 'metadata.json' from model 'keras/bert/keras/bert_base_en_uncased/2' to your Kaggle notebook...\n",
      "Attaching 'tokenizer.json' from model 'keras/bert/keras/bert_base_en_uncased/2' to your Kaggle notebook...\n",
      "Attaching 'tokenizer.json' from model 'keras/bert/keras/bert_base_en_uncased/2' to your Kaggle notebook...\n",
      "Attaching 'assets/tokenizer/vocabulary.txt' from model 'keras/bert/keras/bert_base_en_uncased/2' to your Kaggle notebook...\n",
      "Attaching 'model.safetensors' from model 'keras/bert/keras/bert_base_en_uncased/2' to your Kaggle notebook...\n",
      "Attaching 'model.safetensors.index.json' from model 'keras/bert/keras/bert_base_en_uncased/2' to your Kaggle notebook...\n",
      "Attaching 'metadata.json' from model 'keras/bert/keras/bert_base_en_uncased/2' to your Kaggle notebook...\n",
      "Attaching 'metadata.json' from model 'keras/bert/keras/bert_base_en_uncased/2' to your Kaggle notebook...\n",
      "Attaching 'preprocessor.json' from model 'keras/bert/keras/bert_base_en_uncased/2' to your Kaggle notebook...\n",
      "Attaching 'tokenizer.json' from model 'keras/bert/keras/bert_base_en_uncased/2' to your Kaggle notebook...\n",
      "Attaching 'tokenizer.json' from model 'keras/bert/keras/bert_base_en_uncased/2' to your Kaggle notebook...\n",
      "Attaching 'assets/tokenizer/vocabulary.txt' from model 'keras/bert/keras/bert_base_en_uncased/2' to your Kaggle notebook...\n"
     ]
    }
   ],
   "source": [
    "# preparing text data for input into a BERT-based model by tokenizing and padding the sequences.\n",
    "tokenizer = keras_nlp.models.BertTokenizer.from_preset(\n",
    "    \"bert_base_en_uncased\")\n",
    "\n",
    "# preprocessor includes tokenizer I believe and also padding\n",
    "# round_robin removes data from beginning and end of sequences.\n",
    "preprocessor = keras_nlp.models.BertPreprocessor.from_preset(\n",
    "    \"bert_base_en_uncased\", sequence_length=32, truncate=\"round_robin\")"
   ]
  },
  {
   "cell_type": "markdown",
   "metadata": {},
   "source": [
    "We prepared the data as pairs of sequences, which is the input format required for BERT. "
   ]
  },
  {
   "cell_type": "code",
   "execution_count": 12,
   "metadata": {
    "execution": {
     "iopub.execute_input": "2024-08-12T17:50:11.913660Z",
     "iopub.status.busy": "2024-08-12T17:50:11.912541Z",
     "iopub.status.idle": "2024-08-12T17:50:15.265259Z",
     "shell.execute_reply": "2024-08-12T17:50:15.264223Z",
     "shell.execute_reply.started": "2024-08-12T17:50:11.913619Z"
    }
   },
   "outputs": [
    {
     "name": "stdout",
     "output_type": "stream",
     "text": [
      "Decoded Text (First 8 Samples):\n",
      "Sample 1: [CLS] the joint typhoon warning center ( jtwc ) also issued warnings in an [SEP] the joint typhoon warning center ( jtwc ) only issued warnings in [SEP]\n",
      "\n",
      "Sample 2: [CLS] commercial dnp is used as an antiseptic and as a non - [SEP] commercial dnp is unable to be utilized as an antiseptic or [SEP]\n",
      "\n",
      "Sample 3: [CLS] spinal locks and cervical locks are allowed and mandatory in ibjjf brazilian [SEP] spinal locks and cervical locks are forbidden in ibjjf brazilian ji [SEP]\n",
      "\n",
      "Sample 4: [CLS] dredgers excavate the sediment using mechanical or hydraulic methods or a combination of both [SEP] the dredgers use either mechanical or hydraulic methods . [SEP]\n",
      "\n",
      "Sample 5: [CLS] in 2014 , nextgen earns klas top performance honors for ambula [SEP] in 2014 , nextgen fails to achieve klas top performance honors for [SEP]\n",
      "\n",
      "Sample 6: [CLS] on june 22 , 2009 , the sec also filed civil fraud charges . [SEP] on june 22 , 2009 , the sec kept itself from filing civil fraud charges [SEP]\n",
      "\n",
      "Sample 7: [CLS] each annex to a filed document must have page numbering . [SEP] each annex to a filed document is not required to have page numbering . [SEP] [PAD] [PAD] [PAD] [PAD]\n",
      "\n",
      "Sample 8: [CLS] development of synchronous toothed - belts was begun by the gil [SEP] development of synchronous toothed - belts was halted by the [SEP]\n",
      "\n"
     ]
    }
   ],
   "source": [
    "#input for masking task, sentence order task and the token's ids\n",
    "\n",
    "first = tf.constant([dataset[\"premise\"][i] for i in range(len(dataset))])\n",
    "second = tf.constant([dataset[\"hypothesis\"][i] for i in range(len(dataset))])\n",
    "#passed through the BERT preprocessor and tokenizes the text, adds special tokens (e.g: [PAD],[CLS], [SEP]), \n",
    "#pads the sequences to the specified length \n",
    "preprocessed_data = preprocessor((first, second)) #sentence\n",
    "\n",
    "\n",
    "# token_ids = preprocessed_data['token_ids'] #.to(device)\n",
    "# padding_mask = preprocessed_data['padding_mask'] #.to(device)\n",
    "# segment_ids = preprocessed_data['segment_ids']  #.to(device)\n",
    "\n",
    "# check how the padding and special token insertion works\n",
    "decoded_text = tokenizer.detokenize((preprocessed_data[\"token_ids\"])[:8])\n",
    "print(\"Decoded Text (First 8 Samples):\")\n",
    "for i, text in enumerate(decoded_text.numpy()):\n",
    "    print(f\"Sample {i+1}: {text.decode('utf-8')}\\n\")\n",
    "\n",
    "#print(preprocessed_data)"
   ]
  },
  {
   "cell_type": "markdown",
   "metadata": {},
   "source": [
    "Setting up data for the prediction task:\n",
    "\n",
    "We combined the shuffled indices and original row names which are antonyms, negations, paraphrases into a single list for each."
   ]
  },
  {
   "cell_type": "code",
   "execution_count": 13,
   "metadata": {
    "execution": {
     "iopub.execute_input": "2024-08-12T17:50:20.880811Z",
     "iopub.status.busy": "2024-08-12T17:50:20.880440Z",
     "iopub.status.idle": "2024-08-12T17:50:20.923386Z",
     "shell.execute_reply": "2024-08-12T17:50:20.922445Z",
     "shell.execute_reply.started": "2024-08-12T17:50:20.880781Z"
    }
   },
   "outputs": [
    {
     "name": "stdout",
     "output_type": "stream",
     "text": [
      "Shuffled Index  Original Row Name    Label\n",
      "2884            50487                1    \n",
      "52987           41715                1    \n",
      "71555           32427                1    \n",
      "11800           48323                1    \n",
      "44436           27068                1    \n",
      "34924           57658                1    \n",
      "18576           37518                1    \n",
      "51686           14465                1    \n",
      "31695           42008                1    \n",
      "69603           560                  1    \n",
      "10711           6543                 0    \n",
      "7804            51922                0    \n",
      "54667           16802                0    \n",
      "32607           66953                0    \n",
      "52258           24641                0    \n",
      "22606           14896                0    \n",
      "2446            20770                0    \n",
      "33520           70327                0    \n",
      "76091           34157                0    \n",
      "75430           64309                0    \n"
     ]
    }
   ],
   "source": [
    "#combines the indices and row names from the three categories\n",
    "pred_indices = antonym_index + negation_index + paraphrased_index\n",
    "pred_rows = antonym_row_names + negation_row_names + paraphrased_row_names\n",
    "#features that will be fed into the model for making predictions\n",
    "pred_features = {\n",
    "    \"token_ids\": tf.stack([preprocessed_data['token_ids'][i] for i in pred_indices]),\n",
    "    \"segment_ids\": tf.stack([preprocessed_data['segment_ids'][i] for i in pred_indices]),\n",
    "    \"padding_mask\": tf.stack([preprocessed_data['padding_mask'][i] for i in pred_indices]),\n",
    "}\n",
    "\n",
    "pred_labels = list(dataset.loc[[i for i in pred_rows], \"label\"])\n",
    "\n",
    "# Print headers\n",
    "print(f\"{'Shuffled Index':<15} {'Original Row Name':<20} {'Label':<5}\")\n",
    "\n",
    "# Print each row's details\n",
    "for shuffled_index, original_row, label in zip(pred_indices, pred_rows, pred_labels):\n",
    "    print(f\"{shuffled_index:<15} {original_row:<20} {label:<5}\")\n"
   ]
  },
  {
   "cell_type": "code",
   "execution_count": 14,
   "metadata": {
    "execution": {
     "iopub.execute_input": "2024-08-12T17:50:27.302641Z",
     "iopub.status.busy": "2024-08-12T17:50:27.302268Z",
     "iopub.status.idle": "2024-08-12T17:50:27.334364Z",
     "shell.execute_reply": "2024-08-12T17:50:27.333272Z",
     "shell.execute_reply.started": "2024-08-12T17:50:27.302614Z"
    }
   },
   "outputs": [
    {
     "name": "stdout",
     "output_type": "stream",
     "text": [
      "Original Labels (from index 100 to 200):\n",
      "[0, 0, 1, 0, 1, 1, 1, 0, 0, 1, 0, 0, 1, 0, 1, 0, 0, 1, 0, 1, 0, 1, 0, 0, 0, 1, 0, 1, 1, 0, 1, 1, 0, 0, 1, 1, 0, 0, 0, 1, 1, 1, 1, 0, 1, 1, 0, 0, 1, 1, 1, 1, 0, 1, 0, 0, 0, 1, 0, 1, 0, 1, 1, 1, 0, 0, 1, 0, 0, 1, 0, 0, 0, 1, 0, 1, 1, 1, 1, 0, 0, 1, 1, 1, 0, 1, 0, 0, 0, 1, 1, 0, 0, 0, 0, 1, 1, 1, 1, 0]\n"
     ]
    }
   ],
   "source": [
    "labels = list(dataset[\"label\"])\n",
    "print(\"Original Labels (from index 100 to 200):\")\n",
    "print(labels[100:200])\n",
    "\n",
    "labels_01 = np.unique(np.array(labels), return_inverse=True)[1]\n",
    "labels_01  = to_categorical(labels_01)\n",
    "\n",
    "labels_02 = np.asarray(labels)"
   ]
  },
  {
   "cell_type": "markdown",
   "metadata": {},
   "source": [
    "We splitted the preprocessed data and their labels into training (85%) and testing (15%) sets, and created dictionaries for easy input."
   ]
  },
  {
   "cell_type": "code",
   "execution_count": 15,
   "metadata": {
    "execution": {
     "iopub.execute_input": "2024-08-12T17:50:30.402361Z",
     "iopub.status.busy": "2024-08-12T17:50:30.401539Z",
     "iopub.status.idle": "2024-08-12T17:50:30.423546Z",
     "shell.execute_reply": "2024-08-12T17:50:30.422518Z",
     "shell.execute_reply.started": "2024-08-12T17:50:30.402322Z"
    }
   },
   "outputs": [
    {
     "name": "stdout",
     "output_type": "stream",
     "text": [
      "x_train_token_ids shape: (65769, 32)\n",
      "Shape of Model 1's label tensor: (65769, 2)\n",
      "Shape of Model 2's label tensor: (65769,)\n"
     ]
    }
   ],
   "source": [
    "#calculates the number of samples to use for training by taking 85%.\n",
    "training_samples = (len(labels) * 85)//100\n",
    "#extract the training samples:\n",
    "x_train_token_ids = preprocessed_data['token_ids'][:training_samples]\n",
    "x_train_segment_ids = preprocessed_data[\"segment_ids\"][:training_samples]\n",
    "x_train_padding_mask = preprocessed_data[\"padding_mask\"][:training_samples]\n",
    "\n",
    "y_train_01 = labels_01[:training_samples]\n",
    "y_train_02 = labels_02[:training_samples]\n",
    "\n",
    "# extract the remaining samples \n",
    "x_test_token_ids = preprocessed_data['token_ids'][training_samples:]\n",
    "x_test_segment_ids = preprocessed_data[\"segment_ids\"][training_samples:]\n",
    "x_test_padding_mask = preprocessed_data[\"padding_mask\"][training_samples:]\n",
    "\n",
    "y_test_01 = labels_01[training_samples:]\n",
    "y_test_02 = labels_02[training_samples:]\n",
    "\n",
    "#print shapes\n",
    "print(f\"x_train_token_ids shape: {x_train_token_ids.shape}\")\n",
    "print(\"Shape of Model 1's label tensor:\", y_train_01.shape)\n",
    "print(\"Shape of Model 2's label tensor:\", y_train_02.shape)\n",
    "\n",
    "#creating feature dictionaries for Training and Testing\n",
    "x_train_features = {\n",
    "    \"token_ids\": x_train_token_ids,\n",
    "    \"segment_ids\": x_train_segment_ids,\n",
    "    \"padding_mask\": x_train_padding_mask,\n",
    "}\n",
    "\n",
    "x_test_features = {\n",
    "     \"token_ids\": x_test_token_ids,\n",
    "    \"segment_ids\": x_test_segment_ids,\n",
    "    \"padding_mask\": x_test_padding_mask,\n",
    "}\n",
    "\n",
    "features = {\n",
    "    \"token_ids\": preprocessed_data['token_ids'],\n",
    "    \"segment_ids\": preprocessed_data[\"segment_ids\"],\n",
    "    \"padding_mask\": preprocessed_data[\"padding_mask\"],\n",
    "}"
   ]
  },
  {
   "cell_type": "markdown",
   "metadata": {},
   "source": [
    "# **FEW SHOT GPT-NEO**"
   ]
  },
  {
   "cell_type": "markdown",
   "metadata": {},
   "source": [
    "Setting up a “Few-Shot” text generation:"
   ]
  },
  {
   "cell_type": "code",
   "execution_count": 16,
   "metadata": {
    "execution": {
     "iopub.execute_input": "2024-08-12T17:50:35.777080Z",
     "iopub.status.busy": "2024-08-12T17:50:35.776346Z",
     "iopub.status.idle": "2024-08-12T17:50:39.940625Z",
     "shell.execute_reply": "2024-08-12T17:50:39.939751Z",
     "shell.execute_reply.started": "2024-08-12T17:50:35.777034Z"
    }
   },
   "outputs": [],
   "source": [
    "# Load the pre-trained GPT-Neo model and tokenizer\n",
    "model_name = \"EleutherAI/gpt-neo-1.3B\"\n",
    "tokenizer = AutoTokenizer.from_pretrained(model_name)\n",
    "model = GPTNeoForCausalLM.from_pretrained(model_name)"
   ]
  },
  {
   "cell_type": "markdown",
   "metadata": {},
   "source": [
    "We prepared a prompt that includes a series of labeled examples for the classification task."
   ]
  },
  {
   "cell_type": "code",
   "execution_count": 18,
   "metadata": {
    "execution": {
     "iopub.execute_input": "2024-08-12T17:50:53.629306Z",
     "iopub.status.busy": "2024-08-12T17:50:53.628807Z",
     "iopub.status.idle": "2024-08-12T17:50:53.634722Z",
     "shell.execute_reply": "2024-08-12T17:50:53.633795Z",
     "shell.execute_reply.started": "2024-08-12T17:50:53.629274Z"
    }
   },
   "outputs": [],
   "source": [
    "classification_examples = \"\"\"\n",
    "Classify the hypothesis as a negated (1) or non-negated (0) version of the premise. Examples:\n",
    "Premise: This is a bad idea.\n",
    "Hypothesis: This is not a good idea.\n",
    "Label: 1\n",
    "###\n",
    "Premise: It's not healthy.\n",
    "Hypothesis: It's unhealthy.\n",
    "Label: 0\n",
    "###\n",
    "Premise: No one has a set of principles to live by.\n",
    "Hypothesis: Everyone has a set of principles to live by.\n",
    "Label: 1\n",
    "###\n",
    "Premise: The cat was sitting on the mat.\n",
    "Hypothesis: The cat sat on the mat.\n",
    "Label: 0\n",
    "###\n",
    "Premise:  I saw nothing at all.\n",
    "Hypothesis: I didn't see anything.\n",
    "Label: 0\n",
    "###\n",
    "Premise: Both do good jobs and are quite amusing.\n",
    "Hypothesis: Both do good jobs and aren't quite amusing.\n",
    "Label: 1\n",
    "###\n",
    "Premise: Griffon has been banned from being publicly traded since 1961.\n",
    "Hypothesis: Griffon has been publicly traded since 1961.\n",
    "Label: 1\n",
    "###\n",
    "Input: The plant will probably die if it hasn't had enough time to regenerate.\n",
    "Hypothesis: If the plant has not had time to sufficiently regenerate it will probably perish.\n",
    "Label: 0\n",
    "###\n",
    "Input: It's not uneasy to explain.\n",
    "Hypothesis: It's not easy to explain.\n",
    "Label: 1\n",
    "###\n",
    "Input: After retiring in 1954, Yee worked for a long time with Harrington.\n",
    "Hypothesis: After retiring in 1954, Yee worked with Harrington nearly every day.\n",
    "Label: 0\n",
    "\"\"\""
   ]
  },
  {
   "cell_type": "markdown",
   "metadata": {},
   "source": [
    "We define a function that uses the model to classify and generate a response whether a given hypothesis is a negated (1) or non-negated (0) version of the premise. "
   ]
  },
  {
   "cell_type": "code",
   "execution_count": 20,
   "metadata": {
    "execution": {
     "iopub.execute_input": "2024-08-12T17:51:01.922026Z",
     "iopub.status.busy": "2024-08-12T17:51:01.921656Z",
     "iopub.status.idle": "2024-08-12T17:51:01.929517Z",
     "shell.execute_reply": "2024-08-12T17:51:01.928613Z",
     "shell.execute_reply.started": "2024-08-12T17:51:01.921991Z"
    }
   },
   "outputs": [],
   "source": [
    "def classify_neg(classification_examples, premise, hypothesis):\n",
    "    # prompt\n",
    "    prompt = f\"{classification_examples}\\n\\n{premise}\\n\\n{hypothesis}\\n\\n Label:\"\n",
    "\n",
    "    # Tokenize the prompt\n",
    "    input_ids = tokenizer.encode(prompt, return_tensors=\"pt\")\n",
    "\n",
    "    # Generate text\n",
    "    output = model.generate(\n",
    "        input_ids,\n",
    "        max_length=len(input_ids[0]) + 50,  # Increase length to allow for longer outputs\n",
    "        num_return_sequences=1,\n",
    "        temperature=0.7,\n",
    "        pad_token_id=tokenizer.eos_token_id\n",
    "    )\n",
    "\n",
    "    # Decode the generated text\n",
    "    generated_classification = tokenizer.decode(output[0], skip_special_tokens=True)\n",
    "\n",
    "    # Extract the classification results\n",
    "    start_idx = generated_classification.find(\"Label:\") + len(\"Label:\")\n",
    "    end_idx = generated_classification.find(\"###\", start_idx)\n",
    "    if end_idx == -1:\n",
    "        end_idx = None\n",
    "    classification_result = generated_classification[start_idx:end_idx].strip()\n",
    "\n",
    "    return classification_result"
   ]
  },
  {
   "cell_type": "markdown",
   "metadata": {},
   "source": [
    "After classification, it stores the classification results in the [gpt_pred] list."
   ]
  },
  {
   "cell_type": "code",
   "execution_count": 21,
   "metadata": {
    "execution": {
     "iopub.execute_input": "2024-08-12T17:51:05.087459Z",
     "iopub.status.busy": "2024-08-12T17:51:05.087114Z",
     "iopub.status.idle": "2024-08-12T17:57:02.941327Z",
     "shell.execute_reply": "2024-08-12T17:57:02.940283Z",
     "shell.execute_reply.started": "2024-08-12T17:51:05.087434Z"
    }
   },
   "outputs": [
    {
     "name": "stderr",
     "output_type": "stream",
     "text": [
      "/opt/conda/lib/python3.10/site-packages/transformers/generation/configuration_utils.py:540: UserWarning: `do_sample` is set to `False`. However, `temperature` is set to `0.7` -- this flag is only used in sample-based generation modes. You should set `do_sample=True` or unset `temperature`.\n",
      "  warnings.warn(\n",
      "The attention mask is not set and cannot be inferred from input because pad token is same as eos token.As a consequence, you may observe unexpected behavior. Please pass your input's `attention_mask` to obtain reliable results.\n"
     ]
    },
    {
     "name": "stdout",
     "output_type": "stream",
     "text": [
      "['1', '1', '1', '1', '1', '1', '1', '1', '1', '1', '1', '1', '1', '1', '1', '1', '1', '1', '1', '1']\n"
     ]
    }
   ],
   "source": [
    "premises = list(dataset.loc[[i for i in pred_rows], \"premise\"])\n",
    "hypothesees = list(dataset.loc[[i for i in pred_rows], \"hypothesis\"])\n",
    "\n",
    "#creating list to store the results\n",
    "gpt_pred = []\n",
    "for prem, hyp in zip(premises, hypothesees):\n",
    "    answer = classify_neg(classification_examples, prem, hyp)\n",
    "    gpt_pred.append(answer)\n",
    "\n",
    "print(gpt_pred)"
   ]
  },
  {
   "cell_type": "markdown",
   "metadata": {},
   "source": [
    "Model predicted only 1(negated) for every input suggesting that the model could not distinguish between negated and non-negated sentences so it is biased to predict 1 for both classes."
   ]
  },
  {
   "cell_type": "markdown",
   "metadata": {},
   "source": [
    "We created a confusion matrix to evaluate the GPT-Neo model’s predictions."
   ]
  },
  {
   "cell_type": "code",
   "execution_count": 22,
   "metadata": {
    "execution": {
     "iopub.execute_input": "2024-08-12T17:58:54.813687Z",
     "iopub.status.busy": "2024-08-12T17:58:54.812542Z",
     "iopub.status.idle": "2024-08-12T17:58:55.028832Z",
     "shell.execute_reply": "2024-08-12T17:58:55.027276Z",
     "shell.execute_reply.started": "2024-08-12T17:58:54.813633Z"
    }
   },
   "outputs": [
    {
     "data": {
      "image/png": "[encoded data removed]",
      "text/plain": [
       "<Figure size 640x480 with 1 Axes>"
      ]
     },
     "metadata": {},
     "output_type": "display_data"
    }
   ],
   "source": [
    "#Create confusion matrix and normalizes it over predicted (columns)\n",
    "result = confusion_matrix(pred_labels, [int(i) for i in gpt_pred], normalize='pred', labels=[1,0] )\n",
    "\n",
    "# visualize confusion matrix with sklearn metrics\n",
    "# define matrix and create labels\n",
    "result_display = metrics.ConfusionMatrixDisplay(confusion_matrix = result, display_labels = [\"1\", \"0\"])\n",
    "\n",
    "# display matrix\n",
    "result_display.plot(colorbar=False)\n",
    "plt.show()"
   ]
  },
  {
   "cell_type": "markdown",
   "metadata": {},
   "source": [
    "The rows represent the true labels of the data, while columns represent the predicted labels by the model.\n",
    "\n",
    "e.g: > \n",
    "\n",
    "[TP, FP]\n",
    "\n",
    "[FN, TN]\n",
    "\n",
    "We have 0.5 for True positives and False negatives. It suggests that 50% of the instances that were actually 1 were correctly predicted as 1 by the model, while 50% of the instances that were actually 0 were incorrectly predicted as 1.\n",
    "As a result, all instances where the true label was 1 were predicted correctly, but all instances where the true label was 0 were incorrectly predicted as 1.\n",
    "\n",
    "As a conclusion, we can say our model is better at predicting negated sentences compared to non-negated sentences, showing  a significant issue with the model’s performance,as it fails to correctly identify any non-negated sentences."
   ]
  },
  {
   "cell_type": "markdown",
   "metadata": {},
   "source": [
    "# **MODEL 1**\n",
    "\n",
    "Bert classifier"
   ]
  },
  {
   "cell_type": "markdown",
   "metadata": {},
   "source": [
    "Setting up a BERT-based classifier model using a pre-defined preset. We set preprocessor to None because we already prepocessed the data:"
   ]
  },
  {
   "cell_type": "code",
   "execution_count": 23,
   "metadata": {
    "execution": {
     "iopub.execute_input": "2024-08-12T17:59:01.130926Z",
     "iopub.status.busy": "2024-08-12T17:59:01.130174Z",
     "iopub.status.idle": "2024-08-12T17:59:17.152575Z",
     "shell.execute_reply": "2024-08-12T17:59:17.151579Z",
     "shell.execute_reply.started": "2024-08-12T17:59:01.130896Z"
    }
   },
   "outputs": [
    {
     "name": "stdout",
     "output_type": "stream",
     "text": [
      "Attaching 'model.safetensors' from model 'keras/bert/keras/bert_base_en_uncased/2' to your Kaggle notebook...\n",
      "Attaching 'model.safetensors.index.json' from model 'keras/bert/keras/bert_base_en_uncased/2' to your Kaggle notebook...\n",
      "Attaching 'metadata.json' from model 'keras/bert/keras/bert_base_en_uncased/2' to your Kaggle notebook...\n",
      "Attaching 'metadata.json' from model 'keras/bert/keras/bert_base_en_uncased/2' to your Kaggle notebook...\n",
      "Attaching 'task.json' from model 'keras/bert/keras/bert_base_en_uncased/2' to your Kaggle notebook...\n",
      "Attaching 'config.json' from model 'keras/bert/keras/bert_base_en_uncased/2' to your Kaggle notebook...\n",
      "Attaching 'model.safetensors' from model 'keras/bert/keras/bert_base_en_uncased/2' to your Kaggle notebook...\n",
      "Attaching 'model.safetensors.index.json' from model 'keras/bert/keras/bert_base_en_uncased/2' to your Kaggle notebook...\n",
      "Attaching 'metadata.json' from model 'keras/bert/keras/bert_base_en_uncased/2' to your Kaggle notebook...\n",
      "Attaching 'metadata.json' from model 'keras/bert/keras/bert_base_en_uncased/2' to your Kaggle notebook...\n",
      "Attaching 'config.json' from model 'keras/bert/keras/bert_base_en_uncased/2' to your Kaggle notebook...\n",
      "Attaching 'config.json' from model 'keras/bert/keras/bert_base_en_uncased/2' to your Kaggle notebook...\n",
      "Attaching 'model.weights.h5' from model 'keras/bert/keras/bert_base_en_uncased/2' to your Kaggle notebook...\n"
     ]
    }
   ],
   "source": [
    "classifier = keras_nlp.models.BertClassifier.from_preset(\n",
    "    \"bert_base_en_uncased\", preprocessor = None, #preprocessor = already preprocessed our data separately,,\n",
    "    num_classes=2, load_weights=True,  trainable=True\n",
    "    ) # .to(device)"
   ]
  },
  {
   "cell_type": "markdown",
   "metadata": {},
   "source": [
    "Compile the model:\n",
    "\n",
    "-Binary crossentropy: We choose binary crossentropy because of the appropriateness for binary classification.\n",
    "\n",
    "-Adam optimizer: is one of the most powerful optimizer especially in BERT. We preffered the Adam optimizer for our model because it effectively combines the benefits of adaptive learning rates and momentum as it adjusts the learning rate for each parameter and ensures efficient training."
   ]
  },
  {
   "cell_type": "code",
   "execution_count": 24,
   "metadata": {
    "execution": {
     "iopub.execute_input": "2024-08-12T17:59:32.964178Z",
     "iopub.status.busy": "2024-08-12T17:59:32.963463Z",
     "iopub.status.idle": "2024-08-12T18:27:07.429953Z",
     "shell.execute_reply": "2024-08-12T18:27:07.429107Z",
     "shell.execute_reply.started": "2024-08-12T17:59:32.964146Z"
    }
   },
   "outputs": [
    {
     "name": "stdout",
     "output_type": "stream",
     "text": [
      "Epoch 1/5\n"
     ]
    },
    {
     "name": "stderr",
     "output_type": "stream",
     "text": [
      "WARNING: All log messages before absl::InitializeLog() is called are written to STDERR\n",
      "I0000 00:00:1723485681.633972     420 device_compiler.h:186] Compiled cluster using XLA!  This line is logged at most once for the lifetime of the process.\n",
      "W0000 00:00:1723485681.704769     420 graph_launch.cc:671] Fallback to op-by-op mode because memset node breaks graph update\n"
     ]
    },
    {
     "name": "stdout",
     "output_type": "stream",
     "text": [
      "\u001b[1m823/823\u001b[0m \u001b[32m━━━━━━━━━━━━━━━━━━━━\u001b[0m\u001b[37m\u001b[0m \u001b[1m0s\u001b[0m 433ms/step - accuracy: 0.5044 - loss: 0.7938"
     ]
    },
    {
     "name": "stderr",
     "output_type": "stream",
     "text": [
      "W0000 00:00:1723486037.615040     420 graph_launch.cc:671] Fallback to op-by-op mode because memset node breaks graph update\n",
      "W0000 00:00:1723486041.963304     420 graph_launch.cc:671] Fallback to op-by-op mode because memset node breaks graph update\n"
     ]
    },
    {
     "name": "stdout",
     "output_type": "stream",
     "text": [
      "\u001b[1m823/823\u001b[0m \u001b[32m━━━━━━━━━━━━━━━━━━━━\u001b[0m\u001b[37m\u001b[0m \u001b[1m491s\u001b[0m 464ms/step - accuracy: 0.5044 - loss: 0.7937 - val_accuracy: 0.5176 - val_loss: 1.0540\n",
      "Epoch 2/5\n"
     ]
    },
    {
     "name": "stderr",
     "output_type": "stream",
     "text": [
      "W0000 00:00:1723486063.614780     422 graph_launch.cc:671] Fallback to op-by-op mode because memset node breaks graph update\n"
     ]
    },
    {
     "name": "stdout",
     "output_type": "stream",
     "text": [
      "\u001b[1m823/823\u001b[0m \u001b[32m━━━━━━━━━━━━━━━━━━━━\u001b[0m\u001b[37m\u001b[0m \u001b[1m291s\u001b[0m 354ms/step - accuracy: 0.5009 - loss: 0.7642 - val_accuracy: 0.5176 - val_loss: 1.0356\n",
      "Epoch 3/5\n",
      "\u001b[1m823/823\u001b[0m \u001b[32m━━━━━━━━━━━━━━━━━━━━\u001b[0m\u001b[37m\u001b[0m \u001b[1m291s\u001b[0m 353ms/step - accuracy: 0.5006 - loss: 0.7619 - val_accuracy: 0.5176 - val_loss: 1.0069\n",
      "Epoch 4/5\n",
      "\u001b[1m823/823\u001b[0m \u001b[32m━━━━━━━━━━━━━━━━━━━━\u001b[0m\u001b[37m\u001b[0m \u001b[1m291s\u001b[0m 353ms/step - accuracy: 0.4995 - loss: 0.7648 - val_accuracy: 0.5176 - val_loss: 1.0240\n",
      "Epoch 5/5\n",
      "\u001b[1m823/823\u001b[0m \u001b[32m━━━━━━━━━━━━━━━━━━━━\u001b[0m\u001b[37m\u001b[0m \u001b[1m291s\u001b[0m 353ms/step - accuracy: 0.5007 - loss: 0.7620 - val_accuracy: 0.5176 - val_loss: 1.0319\n"
     ]
    }
   ],
   "source": [
    "#Compile the model (add this before fitting)\n",
    "classifier.compile(\n",
    "    loss=tf.keras.losses.BinaryCrossentropy(from_logits=True),\n",
    "    optimizer=tf.keras.optimizers.Adam(learning_rate=0.01), #learning_rate=0.001\n",
    "    metrics=['accuracy']\n",
    ")\n",
    "\n",
    "# Training the BERT Classifier\n",
    "history_01 = classifier.fit(\n",
    "    x_train_features, y_train_01,\n",
    "    epochs=5, batch_size=64, validation_split=0.2, verbose = 1\n",
    ")"
   ]
  },
  {
   "cell_type": "markdown",
   "metadata": {},
   "source": [
    "**Evaluate Model 1**"
   ]
  },
  {
   "cell_type": "code",
   "execution_count": 25,
   "metadata": {
    "execution": {
     "iopub.execute_input": "2024-08-12T18:27:45.028725Z",
     "iopub.status.busy": "2024-08-12T18:27:45.028354Z",
     "iopub.status.idle": "2024-08-12T18:28:07.820402Z",
     "shell.execute_reply": "2024-08-12T18:28:07.819450Z",
     "shell.execute_reply.started": "2024-08-12T18:27:45.028697Z"
    }
   },
   "outputs": [
    {
     "name": "stdout",
     "output_type": "stream",
     "text": [
      "\u001b[1m  4/363\u001b[0m \u001b[37m━━━━━━━━━━━━━━━━━━━━\u001b[0m \u001b[1m17s\u001b[0m 49ms/step - accuracy: 0.5560 - loss: 0.9617"
     ]
    },
    {
     "name": "stderr",
     "output_type": "stream",
     "text": [
      "W0000 00:00:1723487267.505934     419 graph_launch.cc:671] Fallback to op-by-op mode because memset node breaks graph update\n"
     ]
    },
    {
     "name": "stdout",
     "output_type": "stream",
     "text": [
      "\u001b[1m363/363\u001b[0m \u001b[32m━━━━━━━━━━━━━━━━━━━━\u001b[0m\u001b[37m\u001b[0m \u001b[1m23s\u001b[0m 56ms/step - accuracy: 0.5170 - loss: 1.0331\n"
     ]
    },
    {
     "name": "stderr",
     "output_type": "stream",
     "text": [
      "W0000 00:00:1723487287.784287     420 graph_launch.cc:671] Fallback to op-by-op mode because memset node breaks graph update\n"
     ]
    }
   ],
   "source": [
    "test_ev_01 = classifier.evaluate(x_test_features, y_test_01)"
   ]
  },
  {
   "cell_type": "markdown",
   "metadata": {},
   "source": [
    "**Plot Model 1**"
   ]
  },
  {
   "cell_type": "code",
   "execution_count": 26,
   "metadata": {
    "execution": {
     "iopub.execute_input": "2024-08-12T18:28:18.393232Z",
     "iopub.status.busy": "2024-08-12T18:28:18.392002Z",
     "iopub.status.idle": "2024-08-12T18:28:18.402651Z",
     "shell.execute_reply": "2024-08-12T18:28:18.401783Z",
     "shell.execute_reply.started": "2024-08-12T18:28:18.393187Z"
    }
   },
   "outputs": [],
   "source": [
    "def plot_training_history(history, test_metrics):\n",
    "\n",
    "    accuracy = history.history['accuracy']\n",
    "    val_accuracy = history.history['val_accuracy']\n",
    "    loss = history.history['loss']\n",
    "    val_loss = history.history['val_loss']\n",
    "    epochs_range = range(1, len(accuracy) + 1)\n",
    "\n",
    "    # Plotting training & validation accuracy\n",
    "    plt.figure(figsize=(14, 5))\n",
    "    plt.subplot(1, 2, 1)\n",
    "    plt.plot(epochs_range, accuracy, 'r', label='Training accuracy')\n",
    "    plt.plot(epochs_range, val_accuracy, 'b', label='Validation accuracy')\n",
    "    plt.plot(max(epochs_range), test_metrics[1], 'go', label='Test acc')\n",
    "    plt.title('Training and validation accuracy')\n",
    "    plt.xlabel('Epochs')\n",
    "    plt.ylabel('Accuracy')\n",
    "    plt.legend()\n",
    "\n",
    "    # Plotting training & validation loss\n",
    "    plt.subplot(1, 2, 2)\n",
    "    plt.plot(epochs_range, loss, 'r', label='Training loss')\n",
    "    plt.plot(epochs_range, val_loss, 'b', label='Validation loss')\n",
    "    plt.plot(max(epochs_range), test_metrics[0], 'go', label='Test acc')\n",
    "    plt.title('Training and validation loss')\n",
    "    plt.xlabel('Epochs')\n",
    "    plt.ylabel('Loss')\n",
    "    plt.legend()\n",
    "\n",
    "    plt.show()"
   ]
  },
  {
   "cell_type": "code",
   "execution_count": 27,
   "metadata": {
    "execution": {
     "iopub.execute_input": "2024-08-12T18:28:22.914388Z",
     "iopub.status.busy": "2024-08-12T18:28:22.913480Z",
     "iopub.status.idle": "2024-08-12T18:28:23.482041Z",
     "shell.execute_reply": "2024-08-12T18:28:23.481122Z",
     "shell.execute_reply.started": "2024-08-12T18:28:22.914354Z"
    }
   },
   "outputs": [
    {
     "data": {
      "image/png": "[encoded data removed]",
      "text/plain": [
       "<Figure size 1400x500 with 2 Axes>"
      ]
     },
     "metadata": {},
     "output_type": "display_data"
    }
   ],
   "source": [
    "plot_training_history(history_01, test_ev_01)"
   ]
  },
  {
   "cell_type": "markdown",
   "metadata": {},
   "source": [
    "It appears that Model 1 is not learning from the training data at all. As we seen that accuracy lines are almost flat also indicates that the model' predictions are almost random (circa 0.5) in a binary classification task. Also, the fact that training and validation loss decrease very slightly over the epochs but they are really high indicates that the Model 1 is not minimizing the error effectively. In general, the model seems to be underfitting as it shows high bias for both training and test sets."
   ]
  },
  {
   "cell_type": "markdown",
   "metadata": {},
   "source": [
    "**Predictions for Model 1**\n",
    "\n",
    "By using the BERT classifier to make predictions, then it applies the softmax function to convert these predictions into class probabilities."
   ]
  },
  {
   "cell_type": "code",
   "execution_count": 28,
   "metadata": {
    "execution": {
     "iopub.execute_input": "2024-08-12T18:34:24.006987Z",
     "iopub.status.busy": "2024-08-12T18:34:24.006593Z",
     "iopub.status.idle": "2024-08-12T18:34:28.014786Z",
     "shell.execute_reply": "2024-08-12T18:34:28.013881Z",
     "shell.execute_reply.started": "2024-08-12T18:34:24.006961Z"
    }
   },
   "outputs": [
    {
     "name": "stdout",
     "output_type": "stream",
     "text": [
      "\u001b[1m1/1\u001b[0m \u001b[32m━━━━━━━━━━━━━━━━━━━━\u001b[0m\u001b[37m\u001b[0m \u001b[1m4s\u001b[0m 4s/step\n",
      "[1 1 1 1 1 1 1 1 1 1 0 0 0 0 0 0 0 0 0 0]\n",
      "Predicted labels: [0 0 0 0 0 0 0 0 0 0 0 0 0 0 0 0 0 0 0 0]\n"
     ]
    },
    {
     "name": "stderr",
     "output_type": "stream",
     "text": [
      "W0000 00:00:1723487667.990497     422 graph_launch.cc:671] Fallback to op-by-op mode because memset node breaks graph update\n"
     ]
    }
   ],
   "source": [
    "#We converted labels into a numpy array for easier manipulation\n",
    "pred_predictions = classifier.predict(pred_features)\n",
    "pred_labels_array = np.array(pred_labels)\n",
    "print(pred_labels_array)\n",
    "\n",
    "def softmax(x):\n",
    "    return np.exp(x) / np.exp(x).sum(axis=0) #\n",
    "\n",
    "\n",
    "# Get the class predictions with maximum probabilities\n",
    "predictions1 = softmax(pred_predictions)\n",
    "\n",
    "# Print the class predictions with maximum probabilities\n",
    "predicted_classes1 = np.argmax(predictions1, axis=1)\n",
    "print(\"Predicted labels:\", predicted_classes1)"
   ]
  },
  {
   "cell_type": "markdown",
   "metadata": {},
   "source": [
    "The model predicts 0(non-negated) for all samples regardless of the actual label. It appears that the model has a strong bias towards predicting the non-negated class."
   ]
  },
  {
   "cell_type": "markdown",
   "metadata": {},
   "source": [
    "**Classification report Model 1**"
   ]
  },
  {
   "cell_type": "code",
   "execution_count": 29,
   "metadata": {
    "execution": {
     "iopub.execute_input": "2024-08-12T18:34:51.902330Z",
     "iopub.status.busy": "2024-08-12T18:34:51.901495Z",
     "iopub.status.idle": "2024-08-12T18:34:51.908408Z",
     "shell.execute_reply": "2024-08-12T18:34:51.907322Z",
     "shell.execute_reply.started": "2024-08-12T18:34:51.902298Z"
    }
   },
   "outputs": [],
   "source": [
    "# This code is taken from Andrea Ferreira.\n",
    "def evaluate_classification(pred_labels, predicted_classes):\n",
    "\n",
    "    # Calculating accuracy\n",
    "    accuracy = accuracy_score(pred_labels, predicted_classes)\n",
    "\n",
    "    # Calculating macro-F1 score\n",
    "    macro_f1 = f1_score(pred_labels, predicted_classes, average='macro')\n",
    "\n",
    "    # Generating a detailed classification report\n",
    "    detailed_report = classification_report(pred_labels, predicted_classes)\n",
    "\n",
    "    # Printing the results\n",
    "    print(f\"Accuracy: {accuracy:.4f}\")\n",
    "    print(f\"Macro-F1 Score: {macro_f1:.4f}\")\n",
    "    print(\"Detailed Classification Report:\")\n",
    "    print(detailed_report)\n",
    "\n",
    "    # Returning results as a dictionary\n",
    "    return {\n",
    "        'accuracy': accuracy,\n",
    "        'macro_f1': macro_f1,\n",
    "        'classification_report': detailed_report\n",
    "    }"
   ]
  },
  {
   "cell_type": "code",
   "execution_count": 30,
   "metadata": {
    "execution": {
     "iopub.execute_input": "2024-08-12T18:35:13.324513Z",
     "iopub.status.busy": "2024-08-12T18:35:13.324138Z",
     "iopub.status.idle": "2024-08-12T18:35:13.345615Z",
     "shell.execute_reply": "2024-08-12T18:35:13.344755Z",
     "shell.execute_reply.started": "2024-08-12T18:35:13.324486Z"
    }
   },
   "outputs": [
    {
     "name": "stdout",
     "output_type": "stream",
     "text": [
      "Accuracy: 0.5000\n",
      "Macro-F1 Score: 0.3333\n",
      "Detailed Classification Report:\n",
      "              precision    recall  f1-score   support\n",
      "\n",
      "           0       0.50      1.00      0.67        10\n",
      "           1       0.00      0.00      0.00        10\n",
      "\n",
      "    accuracy                           0.50        20\n",
      "   macro avg       0.25      0.50      0.33        20\n",
      "weighted avg       0.25      0.50      0.33        20\n",
      "\n"
     ]
    },
    {
     "name": "stderr",
     "output_type": "stream",
     "text": [
      "/opt/conda/lib/python3.10/site-packages/sklearn/metrics/_classification.py:1344: UndefinedMetricWarning: Precision and F-score are ill-defined and being set to 0.0 in labels with no predicted samples. Use `zero_division` parameter to control this behavior.\n",
      "  _warn_prf(average, modifier, msg_start, len(result))\n",
      "/opt/conda/lib/python3.10/site-packages/sklearn/metrics/_classification.py:1344: UndefinedMetricWarning: Precision and F-score are ill-defined and being set to 0.0 in labels with no predicted samples. Use `zero_division` parameter to control this behavior.\n",
      "  _warn_prf(average, modifier, msg_start, len(result))\n",
      "/opt/conda/lib/python3.10/site-packages/sklearn/metrics/_classification.py:1344: UndefinedMetricWarning: Precision and F-score are ill-defined and being set to 0.0 in labels with no predicted samples. Use `zero_division` parameter to control this behavior.\n",
      "  _warn_prf(average, modifier, msg_start, len(result))\n"
     ]
    },
    {
     "data": {
      "text/plain": [
       "{'accuracy': 0.5,\n",
       " 'macro_f1': 0.3333333333333333,\n",
       " 'classification_report': '              precision    recall  f1-score   support\\n\\n           0       0.50      1.00      0.67        10\\n           1       0.00      0.00      0.00        10\\n\\n    accuracy                           0.50        20\\n   macro avg       0.25      0.50      0.33        20\\nweighted avg       0.25      0.50      0.33        20\\n'}"
      ]
     },
     "execution_count": 30,
     "metadata": {},
     "output_type": "execute_result"
    }
   ],
   "source": [
    "evaluate_classification(pred_labels, predicted_classes1) #results1"
   ]
  },
  {
   "cell_type": "markdown",
   "metadata": {},
   "source": [
    "Accuracy is 0.5, so we can say that model is not performing well as its predictions are almost equivalent to random guessing. When we look at the recall, precision and F1-score being 0 for 1-negated class means that the model missed this class and failed to correctly identift any of its instances. In general, this imbalance suggests significant issues in the model’s ability to generalize across both classes."
   ]
  },
  {
   "cell_type": "markdown",
   "metadata": {},
   "source": [
    "**Confusion** **matrix** **Model 1**"
   ]
  },
  {
   "cell_type": "code",
   "execution_count": 31,
   "metadata": {
    "execution": {
     "iopub.execute_input": "2024-08-12T18:35:22.402363Z",
     "iopub.status.busy": "2024-08-12T18:35:22.401731Z",
     "iopub.status.idle": "2024-08-12T18:35:22.646967Z",
     "shell.execute_reply": "2024-08-12T18:35:22.646110Z",
     "shell.execute_reply.started": "2024-08-12T18:35:22.402331Z"
    }
   },
   "outputs": [
    {
     "data": {
      "image/png": "[encoded data removed]",
      "text/plain": [
       "<Figure size 640x480 with 2 Axes>"
      ]
     },
     "metadata": {},
     "output_type": "display_data"
    }
   ],
   "source": [
    "#Create confusion matrix and normalizes it over predicted (columns)\n",
    "result1 = confusion_matrix(pred_labels_array, predicted_classes1, normalize='pred', labels=[1,0] )\n",
    "\n",
    "# visualize confusion matrix with sklearn metrics\n",
    "# define matrix and create labels\n",
    "result_display1 = metrics.ConfusionMatrixDisplay(confusion_matrix = result1, display_labels = [\"1\", \"0\"])\n",
    "\n",
    "# display matrix\n",
    "result_display1.plot() #colorbar=True\n",
    "plt.show()"
   ]
  },
  {
   "cell_type": "markdown",
   "metadata": {},
   "source": [
    "The representation is the same with Few-Shot:\n",
    "\n",
    "e.g: >\n",
    "\n",
    "[TP, FP]\n",
    "\n",
    "[FN, TN]\n",
    "\n",
    "Confusion matrix we see confirms the comments I made for this model. \n",
    "\n",
    "TP = 0 means not correctly predicting any instances of the 1-negated class.\n",
    "\n",
    "TN = 0.5 means 50% of the instances that were actually 0 (non-negated class) were correctly predicted.\n",
    "\n",
    "FN = 0 means 50% of the true labels for 1 (negated class) were incorrectly predicted as 0.\n",
    "\n",
    "FP = 0 means the model did not incorrectly predict any 0 instances as 1.\n",
    "\n",
    "Again, it is seen that the Bert model is biased towards predicting the negative class 0.\n"
   ]
  },
  {
   "cell_type": "markdown",
   "metadata": {},
   "source": [
    "# **MODEL 2**\n",
    "\n",
    "Embedding and Classifier"
   ]
  },
  {
   "cell_type": "markdown",
   "metadata": {},
   "source": [
    "The embedder creates 2 types of embeddings:\n",
    "  - pooled embeddings:\n",
    "      - representation of the entire sequence (both sentences) as a single vector\n",
    "      - input for the model with only dense layers\n",
    "  - sequence embeddings:\n",
    "      - vector for each token in the sequence\n",
    "      - suitable as input for the LSTM, as it takes word order into account"
   ]
  },
  {
   "cell_type": "code",
   "execution_count": 32,
   "metadata": {
    "execution": {
     "iopub.execute_input": "2024-08-12T18:35:34.341501Z",
     "iopub.status.busy": "2024-08-12T18:35:34.341144Z",
     "iopub.status.idle": "2024-08-12T18:35:46.561897Z",
     "shell.execute_reply": "2024-08-12T18:35:46.561092Z",
     "shell.execute_reply.started": "2024-08-12T18:35:34.341475Z"
    }
   },
   "outputs": [
    {
     "name": "stdout",
     "output_type": "stream",
     "text": [
      "Attaching 'model.safetensors' from model 'keras/bert/keras/bert_base_en_uncased/2' to your Kaggle notebook...\n",
      "Attaching 'model.safetensors.index.json' from model 'keras/bert/keras/bert_base_en_uncased/2' to your Kaggle notebook...\n",
      "Attaching 'metadata.json' from model 'keras/bert/keras/bert_base_en_uncased/2' to your Kaggle notebook...\n",
      "Attaching 'metadata.json' from model 'keras/bert/keras/bert_base_en_uncased/2' to your Kaggle notebook...\n",
      "Attaching 'config.json' from model 'keras/bert/keras/bert_base_en_uncased/2' to your Kaggle notebook...\n",
      "Attaching 'config.json' from model 'keras/bert/keras/bert_base_en_uncased/2' to your Kaggle notebook...\n",
      "Attaching 'model.weights.h5' from model 'keras/bert/keras/bert_base_en_uncased/2' to your Kaggle notebook...\n"
     ]
    }
   ],
   "source": [
    "# Initialize the BERT backbone model with pre-trained weights\n",
    "with tf.device('/device:GPU:0'): \n",
    "    embedder = keras_nlp.models.BertBackbone.from_preset(\n",
    "        \"bert_base_en_uncased\",  load_weights=True, preprocessor=None, trainable=False\n",
    "    )"
   ]
  },
  {
   "cell_type": "code",
   "execution_count": 34,
   "metadata": {
    "execution": {
     "iopub.execute_input": "2024-08-12T18:52:34.032872Z",
     "iopub.status.busy": "2024-08-12T18:52:34.032467Z",
     "iopub.status.idle": "2024-08-12T19:01:17.390366Z",
     "shell.execute_reply": "2024-08-12T19:01:17.389417Z",
     "shell.execute_reply.started": "2024-08-12T18:52:34.032842Z"
    }
   },
   "outputs": [
    {
     "name": "stdout",
     "output_type": "stream",
     "text": [
      "Elapsed time: 523.35 seconds\n"
     ]
    }
   ],
   "source": [
    "# Record the start time for measuring\n",
    "start_time = time.time()\n",
    "\n",
    "batch_size = 32\n",
    "# Initialize lists to store the seq-level and pooled embeddings\n",
    "seq_embeddings = []\n",
    "pool_embeddings = []\n",
    "# Process the input data in batches\n",
    "with tf.device('/device:GPU:0'):\n",
    "    for i in range(0, len(features[\"token_ids\"]), batch_size):\n",
    "        # Slice the features\n",
    "        batch_features = {\n",
    "            \"token_ids\": features[\"token_ids\"][i: i + batch_size],\n",
    "            \"segment_ids\": features[\"segment_ids\"][i: i + batch_size],\n",
    "            \"padding_mask\": features[\"padding_mask\"][i: i + batch_size],\n",
    "        }\n",
    "        batch_embeddings = embedder(batch_features)\n",
    "        # Store the sequence-level embeddings (for each token)\n",
    "        seq_embeddings.extend(batch_embeddings['sequence_output'])\n",
    "        # Store the pooled embeddings (for the whole sequence)\n",
    "        pool_embeddings.extend(batch_embeddings['pooled_output'])\n",
    "\n",
    "# Record the end time\n",
    "end_time = time.time()\n",
    "\n",
    "# Calculate and print the elapsed time\n",
    "elapsed_time = end_time - start_time\n",
    "print(f\"Elapsed time: {elapsed_time:.2f} seconds\")"
   ]
  },
  {
   "cell_type": "code",
   "execution_count": 35,
   "metadata": {
    "execution": {
     "iopub.execute_input": "2024-08-12T19:04:01.257792Z",
     "iopub.status.busy": "2024-08-12T19:04:01.257393Z",
     "iopub.status.idle": "2024-08-12T19:04:01.267726Z",
     "shell.execute_reply": "2024-08-12T19:04:01.266828Z",
     "shell.execute_reply.started": "2024-08-12T19:04:01.257761Z"
    }
   },
   "outputs": [
    {
     "name": "stdout",
     "output_type": "stream",
     "text": [
      "Number of Sequence Embeddings: 77376\n",
      "Length of y_train_02: 65769\n",
      "Number of Token IDs in Features: 77376\n",
      "\n",
      "Sample of Token IDs (first 2):\n",
      "tf.Tensor(\n",
      "[[  101  1996  4101 15393  5432  2415  1006  1046  2102 16526  1007  2036\n",
      "   3843 16234  1999  2019   102  1996  4101 15393  5432  2415  1006  1046\n",
      "   2102 16526  1007  2069  3843 16234  1999   102]\n",
      " [  101  3293  1040 16275  2003  2109  2004  2019  3424  3366 20746  1998\n",
      "   2004  1037  2512  1011   102  3293  1040 16275  2003  4039  2000  2022\n",
      "  12550  2004  2019  3424  3366 20746  2030   102]], shape=(2, 32), dtype=int32)\n",
      "\n",
      "Sample Data (first 2 sequences):\n",
      "[<tf.Tensor: shape=(32, 768), dtype=float32, numpy=\n",
      "array([[-0.9500362 , -0.02559358, -0.42308766, ..., -0.8528032 ,\n",
      "         0.09129428,  0.07362685],\n",
      "       [-0.06119687, -0.11673031, -0.4369478 , ...,  0.09962112,\n",
      "         1.2962011 ,  0.13774018],\n",
      "       [ 0.16016704, -0.19487922,  0.3218239 , ..., -0.12377342,\n",
      "         0.19195   , -0.5271513 ],\n",
      "       ...,\n",
      "       [-0.01281314,  0.40843508,  0.6968195 , ..., -0.87715006,\n",
      "        -0.7999142 , -0.61531425],\n",
      "       [-2.1548383 , -0.7931634 ,  0.03971399, ..., -0.451414  ,\n",
      "         0.21314639, -0.09525715],\n",
      "       [ 0.55590075, -0.39198613, -0.16347201, ..., -0.19363664,\n",
      "        -0.57400143,  0.07770665]], dtype=float32)>, <tf.Tensor: shape=(32, 768), dtype=float32, numpy=\n",
      "array([[-1.0062566 ,  0.38287914, -0.64008546, ..., -1.0775943 ,\n",
      "         0.36903223,  0.5415491 ],\n",
      "       [ 0.34522346, -0.1650456 , -0.9361593 , ..., -0.58704406,\n",
      "         1.1182756 ,  0.2008976 ],\n",
      "       [ 0.37036705, -0.776815  , -0.74837345, ..., -0.68861127,\n",
      "         0.60220605,  0.34566006],\n",
      "       ...,\n",
      "       [-0.3521036 ,  0.01505687, -0.43319905, ..., -0.6747757 ,\n",
      "        -0.5306159 , -0.34988332],\n",
      "       [-0.3371425 ,  0.20955034, -0.4774155 , ..., -0.26456767,\n",
      "         0.26360524,  0.26977938],\n",
      "       [ 0.76028746,  0.284342  , -0.57232475, ..., -0.11799466,\n",
      "        -0.35812798,  0.03463599]], dtype=float32)>]\n"
     ]
    }
   ],
   "source": [
    "print(\"Number of Sequence Embeddings:\", len(seq_embeddings))\n",
    "#print(seq_embeddings.shape)\n",
    "print(\"Length of y_train_02:\", len(y_train_02))\n",
    "print(\"Number of Token IDs in Features:\", len(features[\"token_ids\"]))\n",
    "print(\"\\nSample of Token IDs (first 2):\")\n",
    "print(features[\"token_ids\"][:2])\n",
    "print(\"\\nSample Data (first 2 sequences):\")\n",
    "print(seq_embeddings[:2])"
   ]
  },
  {
   "cell_type": "markdown",
   "metadata": {},
   "source": [
    "We reshaped and splitted pooled and sequence embeddings into training and testing sets then we converted the lists of embeddings into tensors to work with TenserFlow models. \n",
    "\n",
    "! I had to use only the part of the dataset for this model because it gives me an error indicating that my GPU ran out of memory. I do not know the reason of it so maybe it is a bug in kaggle or this could be also due to the large size of the data or the complexity of the model(?)."
   ]
  },
  {
   "cell_type": "code",
   "execution_count": 38,
   "metadata": {
    "execution": {
     "iopub.execute_input": "2024-08-12T19:09:49.444395Z",
     "iopub.status.busy": "2024-08-12T19:09:49.443888Z",
     "iopub.status.idle": "2024-08-12T19:09:52.385364Z",
     "shell.execute_reply": "2024-08-12T19:09:52.384374Z",
     "shell.execute_reply.started": "2024-08-12T19:09:49.444356Z"
    }
   },
   "outputs": [
    {
     "name": "stdout",
     "output_type": "stream",
     "text": [
      "(40000, 32, 768)\n"
     ]
    }
   ],
   "source": [
    "#Reshapes the pooled embeddings into a 2D tensor with shape representing an entire sequence \n",
    "\n",
    "reshaped_pool_embeddings = tf.reshape(pool_embeddings, shape=(-1, 768))\n",
    "#then splits it into training and testing sets\n",
    "x_train_02 = reshaped_pool_embeddings[:training_samples]\n",
    "x_test_02 = reshaped_pool_embeddings[training_samples:]\n",
    "\n",
    "#splits the the sequence embeddings into training and testing sets\n",
    "x_train_03 = seq_embeddings[:training_samples]\n",
    "x_test_03 = seq_embeddings[training_samples:]\n",
    "\n",
    "#65769 is full amount, but GPU runs out of memory if using full lenght\n",
    "# thus increase if possible, but reduce if necessary (30000 ideally, anything lower is not super good)\n",
    "train_03_len = 40000\n",
    "\n",
    "with tf.device('/device:GPU:1'):\n",
    "    #x_train_03 = tf.stack(x_train_03)  # full set\n",
    "    x_train_03 = tf.stack(x_train_03[:train_03_len]) #can be limitted the size of x_train_03, if memory issues arise.\n",
    "    x_test_03 = tf.stack(x_test_03)\n",
    "\n",
    "print(x_train_03.get_shape())\n",
    "\n",
    "\n",
    "#y_train_03 = y_train_02  # full set\n",
    "y_train_03 = y_train_02[:train_03_len] #can be limitted the size of y_train_02, if memory issues arise.\n",
    "y_test_03 = y_test_02\n",
    "\n",
    "# for making predictions with Model 2\n",
    "x_pred_02 = tf.gather(reshaped_pool_embeddings,\n",
    "                indices=pred_indices)\n",
    "\n",
    "x_pred_03 = [seq_embeddings[x] for x in pred_indices]\n",
    "\n",
    "x_pred_03 = tf.stack(x_pred_03)"
   ]
  },
  {
   "cell_type": "markdown",
   "metadata": {},
   "source": [
    "### Model 2"
   ]
  },
  {
   "cell_type": "markdown",
   "metadata": {},
   "source": [
    "We initilized a sequential model in Keras. We preffered \"sigmoid\" activation layer as final layer because of the type of classification task."
   ]
  },
  {
   "cell_type": "code",
   "execution_count": 39,
   "metadata": {
    "execution": {
     "iopub.execute_input": "2024-08-12T19:10:03.526194Z",
     "iopub.status.busy": "2024-08-12T19:10:03.525548Z",
     "iopub.status.idle": "2024-08-12T19:13:23.385216Z",
     "shell.execute_reply": "2024-08-12T19:13:23.384314Z",
     "shell.execute_reply.started": "2024-08-12T19:10:03.526161Z"
    }
   },
   "outputs": [
    {
     "name": "stderr",
     "output_type": "stream",
     "text": [
      "/opt/conda/lib/python3.10/site-packages/keras/src/layers/core/dense.py:87: UserWarning: Do not pass an `input_shape`/`input_dim` argument to a layer. When using Sequential models, prefer using an `Input(shape)` object as the first layer in the model instead.\n",
      "  super().__init__(activity_regularizer=activity_regularizer, **kwargs)\n"
     ]
    },
    {
     "data": {
      "text/html": [
       "<pre style=\"white-space:pre;overflow-x:auto;line-height:normal;font-family:Menlo,'DejaVu Sans Mono',consolas,'Courier New',monospace\"><span style=\"font-weight: bold\">Model: \"Model_02\"</span>\n",
       "</pre>\n"
      ],
      "text/plain": [
       "\u001b[1mModel: \"Model_02\"\u001b[0m\n"
      ]
     },
     "metadata": {},
     "output_type": "display_data"
    },
    {
     "data": {
      "text/html": [
       "<pre style=\"white-space:pre;overflow-x:auto;line-height:normal;font-family:Menlo,'DejaVu Sans Mono',consolas,'Courier New',monospace\">┏━━━━━━━━━━━━━━━━━━━━━━━━━━━━━━━━━┳━━━━━━━━━━━━━━━━━━━━━━━━┳━━━━━━━━━━━━━━━┓\n",
       "┃<span style=\"font-weight: bold\"> Layer (type)                    </span>┃<span style=\"font-weight: bold\"> Output Shape           </span>┃<span style=\"font-weight: bold\">       Param # </span>┃\n",
       "┡━━━━━━━━━━━━━━━━━━━━━━━━━━━━━━━━━╇━━━━━━━━━━━━━━━━━━━━━━━━╇━━━━━━━━━━━━━━━┩\n",
       "│ dense (<span style=\"color: #0087ff; text-decoration-color: #0087ff\">Dense</span>)                   │ (<span style=\"color: #00d7ff; text-decoration-color: #00d7ff\">None</span>, <span style=\"color: #00af00; text-decoration-color: #00af00\">256</span>)            │       <span style=\"color: #00af00; text-decoration-color: #00af00\">196,864</span> │\n",
       "├─────────────────────────────────┼────────────────────────┼───────────────┤\n",
       "│ dense_1 (<span style=\"color: #0087ff; text-decoration-color: #0087ff\">Dense</span>)                 │ (<span style=\"color: #00d7ff; text-decoration-color: #00d7ff\">None</span>, <span style=\"color: #00af00; text-decoration-color: #00af00\">256</span>)            │        <span style=\"color: #00af00; text-decoration-color: #00af00\">65,792</span> │\n",
       "├─────────────────────────────────┼────────────────────────┼───────────────┤\n",
       "│ dense_2 (<span style=\"color: #0087ff; text-decoration-color: #0087ff\">Dense</span>)                 │ (<span style=\"color: #00d7ff; text-decoration-color: #00d7ff\">None</span>, <span style=\"color: #00af00; text-decoration-color: #00af00\">128</span>)            │        <span style=\"color: #00af00; text-decoration-color: #00af00\">32,896</span> │\n",
       "├─────────────────────────────────┼────────────────────────┼───────────────┤\n",
       "│ dense_3 (<span style=\"color: #0087ff; text-decoration-color: #0087ff\">Dense</span>)                 │ (<span style=\"color: #00d7ff; text-decoration-color: #00d7ff\">None</span>, <span style=\"color: #00af00; text-decoration-color: #00af00\">64</span>)             │         <span style=\"color: #00af00; text-decoration-color: #00af00\">8,256</span> │\n",
       "├─────────────────────────────────┼────────────────────────┼───────────────┤\n",
       "│ dense_4 (<span style=\"color: #0087ff; text-decoration-color: #0087ff\">Dense</span>)                 │ (<span style=\"color: #00d7ff; text-decoration-color: #00d7ff\">None</span>, <span style=\"color: #00af00; text-decoration-color: #00af00\">16</span>)             │         <span style=\"color: #00af00; text-decoration-color: #00af00\">1,040</span> │\n",
       "├─────────────────────────────────┼────────────────────────┼───────────────┤\n",
       "│ dense_5 (<span style=\"color: #0087ff; text-decoration-color: #0087ff\">Dense</span>)                 │ (<span style=\"color: #00d7ff; text-decoration-color: #00d7ff\">None</span>, <span style=\"color: #00af00; text-decoration-color: #00af00\">1</span>)              │            <span style=\"color: #00af00; text-decoration-color: #00af00\">17</span> │\n",
       "└─────────────────────────────────┴────────────────────────┴───────────────┘\n",
       "</pre>\n"
      ],
      "text/plain": [
       "┏━━━━━━━━━━━━━━━━━━━━━━━━━━━━━━━━━┳━━━━━━━━━━━━━━━━━━━━━━━━┳━━━━━━━━━━━━━━━┓\n",
       "┃\u001b[1m \u001b[0m\u001b[1mLayer (type)                   \u001b[0m\u001b[1m \u001b[0m┃\u001b[1m \u001b[0m\u001b[1mOutput Shape          \u001b[0m\u001b[1m \u001b[0m┃\u001b[1m \u001b[0m\u001b[1m      Param #\u001b[0m\u001b[1m \u001b[0m┃\n",
       "┡━━━━━━━━━━━━━━━━━━━━━━━━━━━━━━━━━╇━━━━━━━━━━━━━━━━━━━━━━━━╇━━━━━━━━━━━━━━━┩\n",
       "│ dense (\u001b[38;5;33mDense\u001b[0m)                   │ (\u001b[38;5;45mNone\u001b[0m, \u001b[38;5;34m256\u001b[0m)            │       \u001b[38;5;34m196,864\u001b[0m │\n",
       "├─────────────────────────────────┼────────────────────────┼───────────────┤\n",
       "│ dense_1 (\u001b[38;5;33mDense\u001b[0m)                 │ (\u001b[38;5;45mNone\u001b[0m, \u001b[38;5;34m256\u001b[0m)            │        \u001b[38;5;34m65,792\u001b[0m │\n",
       "├─────────────────────────────────┼────────────────────────┼───────────────┤\n",
       "│ dense_2 (\u001b[38;5;33mDense\u001b[0m)                 │ (\u001b[38;5;45mNone\u001b[0m, \u001b[38;5;34m128\u001b[0m)            │        \u001b[38;5;34m32,896\u001b[0m │\n",
       "├─────────────────────────────────┼────────────────────────┼───────────────┤\n",
       "│ dense_3 (\u001b[38;5;33mDense\u001b[0m)                 │ (\u001b[38;5;45mNone\u001b[0m, \u001b[38;5;34m64\u001b[0m)             │         \u001b[38;5;34m8,256\u001b[0m │\n",
       "├─────────────────────────────────┼────────────────────────┼───────────────┤\n",
       "│ dense_4 (\u001b[38;5;33mDense\u001b[0m)                 │ (\u001b[38;5;45mNone\u001b[0m, \u001b[38;5;34m16\u001b[0m)             │         \u001b[38;5;34m1,040\u001b[0m │\n",
       "├─────────────────────────────────┼────────────────────────┼───────────────┤\n",
       "│ dense_5 (\u001b[38;5;33mDense\u001b[0m)                 │ (\u001b[38;5;45mNone\u001b[0m, \u001b[38;5;34m1\u001b[0m)              │            \u001b[38;5;34m17\u001b[0m │\n",
       "└─────────────────────────────────┴────────────────────────┴───────────────┘\n"
      ]
     },
     "metadata": {},
     "output_type": "display_data"
    },
    {
     "data": {
      "text/html": [
       "<pre style=\"white-space:pre;overflow-x:auto;line-height:normal;font-family:Menlo,'DejaVu Sans Mono',consolas,'Courier New',monospace\"><span style=\"font-weight: bold\"> Total params: </span><span style=\"color: #00af00; text-decoration-color: #00af00\">304,865</span> (1.16 MB)\n",
       "</pre>\n"
      ],
      "text/plain": [
       "\u001b[1m Total params: \u001b[0m\u001b[38;5;34m304,865\u001b[0m (1.16 MB)\n"
      ]
     },
     "metadata": {},
     "output_type": "display_data"
    },
    {
     "data": {
      "text/html": [
       "<pre style=\"white-space:pre;overflow-x:auto;line-height:normal;font-family:Menlo,'DejaVu Sans Mono',consolas,'Courier New',monospace\"><span style=\"font-weight: bold\"> Trainable params: </span><span style=\"color: #00af00; text-decoration-color: #00af00\">304,865</span> (1.16 MB)\n",
       "</pre>\n"
      ],
      "text/plain": [
       "\u001b[1m Trainable params: \u001b[0m\u001b[38;5;34m304,865\u001b[0m (1.16 MB)\n"
      ]
     },
     "metadata": {},
     "output_type": "display_data"
    },
    {
     "data": {
      "text/html": [
       "<pre style=\"white-space:pre;overflow-x:auto;line-height:normal;font-family:Menlo,'DejaVu Sans Mono',consolas,'Courier New',monospace\"><span style=\"font-weight: bold\"> Non-trainable params: </span><span style=\"color: #00af00; text-decoration-color: #00af00\">0</span> (0.00 B)\n",
       "</pre>\n"
      ],
      "text/plain": [
       "\u001b[1m Non-trainable params: \u001b[0m\u001b[38;5;34m0\u001b[0m (0.00 B)\n"
      ]
     },
     "metadata": {},
     "output_type": "display_data"
    },
    {
     "name": "stdout",
     "output_type": "stream",
     "text": [
      "Epoch 1/50\n",
      "\u001b[1m  84/1850\u001b[0m \u001b[37m━━━━━━━━━━━━━━━━━━━━\u001b[0m \u001b[1m3s\u001b[0m 2ms/step - accuracy: 0.5395 - loss: 0.6998"
     ]
    },
    {
     "name": "stderr",
     "output_type": "stream",
     "text": [
      "W0000 00:00:1723489806.870040     420 graph_launch.cc:671] Fallback to op-by-op mode because memset node breaks graph update\n"
     ]
    },
    {
     "name": "stdout",
     "output_type": "stream",
     "text": [
      "\u001b[1m1850/1850\u001b[0m \u001b[32m━━━━━━━━━━━━━━━━━━━━\u001b[0m\u001b[37m\u001b[0m \u001b[1m0s\u001b[0m 3ms/step - accuracy: 0.5155 - loss: 0.6949"
     ]
    },
    {
     "name": "stderr",
     "output_type": "stream",
     "text": [
      "W0000 00:00:1723489811.701446     422 graph_launch.cc:671] Fallback to op-by-op mode because memset node breaks graph update\n",
      "W0000 00:00:1723489812.151524     421 graph_launch.cc:671] Fallback to op-by-op mode because memset node breaks graph update\n"
     ]
    },
    {
     "name": "stdout",
     "output_type": "stream",
     "text": [
      "\u001b[1m1850/1850\u001b[0m \u001b[32m━━━━━━━━━━━━━━━━━━━━\u001b[0m\u001b[37m\u001b[0m \u001b[1m9s\u001b[0m 3ms/step - accuracy: 0.5155 - loss: 0.6949 - val_accuracy: 0.5170 - val_loss: 0.6926\n",
      "Epoch 2/50\n",
      "\u001b[1m  81/1850\u001b[0m \u001b[37m━━━━━━━━━━━━━━━━━━━━\u001b[0m \u001b[1m3s\u001b[0m 2ms/step - accuracy: 0.5228 - loss: 0.6922"
     ]
    },
    {
     "name": "stderr",
     "output_type": "stream",
     "text": [
      "W0000 00:00:1723489812.745396     421 graph_launch.cc:671] Fallback to op-by-op mode because memset node breaks graph update\n"
     ]
    },
    {
     "name": "stdout",
     "output_type": "stream",
     "text": [
      "\u001b[1m1850/1850\u001b[0m \u001b[32m━━━━━━━━━━━━━━━━━━━━\u001b[0m\u001b[37m\u001b[0m \u001b[1m4s\u001b[0m 2ms/step - accuracy: 0.5192 - loss: 0.6925 - val_accuracy: 0.4843 - val_loss: 0.6944\n",
      "Epoch 3/50\n",
      "\u001b[1m1850/1850\u001b[0m \u001b[32m━━━━━━━━━━━━━━━━━━━━\u001b[0m\u001b[37m\u001b[0m \u001b[1m4s\u001b[0m 2ms/step - accuracy: 0.5158 - loss: 0.6929 - val_accuracy: 0.5170 - val_loss: 0.6926\n",
      "Epoch 4/50\n",
      "\u001b[1m1850/1850\u001b[0m \u001b[32m━━━━━━━━━━━━━━━━━━━━\u001b[0m\u001b[37m\u001b[0m \u001b[1m4s\u001b[0m 2ms/step - accuracy: 0.5142 - loss: 0.6929 - val_accuracy: 0.5170 - val_loss: 0.6926\n",
      "Epoch 5/50\n",
      "\u001b[1m1850/1850\u001b[0m \u001b[32m━━━━━━━━━━━━━━━━━━━━\u001b[0m\u001b[37m\u001b[0m \u001b[1m4s\u001b[0m 2ms/step - accuracy: 0.5134 - loss: 0.6928 - val_accuracy: 0.5170 - val_loss: 0.6926\n",
      "Epoch 6/50\n",
      "\u001b[1m1850/1850\u001b[0m \u001b[32m━━━━━━━━━━━━━━━━━━━━\u001b[0m\u001b[37m\u001b[0m \u001b[1m4s\u001b[0m 2ms/step - accuracy: 0.5198 - loss: 0.6924 - val_accuracy: 0.5170 - val_loss: 0.6926\n",
      "Epoch 7/50\n",
      "\u001b[1m1850/1850\u001b[0m \u001b[32m━━━━━━━━━━━━━━━━━━━━\u001b[0m\u001b[37m\u001b[0m \u001b[1m4s\u001b[0m 2ms/step - accuracy: 0.5185 - loss: 0.6927 - val_accuracy: 0.5170 - val_loss: 0.6926\n",
      "Epoch 8/50\n",
      "\u001b[1m1850/1850\u001b[0m \u001b[32m━━━━━━━━━━━━━━━━━━━━\u001b[0m\u001b[37m\u001b[0m \u001b[1m4s\u001b[0m 2ms/step - accuracy: 0.5141 - loss: 0.6928 - val_accuracy: 0.5170 - val_loss: 0.6926\n",
      "Epoch 9/50\n",
      "\u001b[1m1850/1850\u001b[0m \u001b[32m━━━━━━━━━━━━━━━━━━━━\u001b[0m\u001b[37m\u001b[0m \u001b[1m4s\u001b[0m 2ms/step - accuracy: 0.5204 - loss: 0.6923 - val_accuracy: 0.5170 - val_loss: 0.6926\n",
      "Epoch 10/50\n",
      "\u001b[1m1850/1850\u001b[0m \u001b[32m━━━━━━━━━━━━━━━━━━━━\u001b[0m\u001b[37m\u001b[0m \u001b[1m4s\u001b[0m 2ms/step - accuracy: 0.5150 - loss: 0.6927 - val_accuracy: 0.5170 - val_loss: 0.6926\n",
      "Epoch 11/50\n",
      "\u001b[1m1850/1850\u001b[0m \u001b[32m━━━━━━━━━━━━━━━━━━━━\u001b[0m\u001b[37m\u001b[0m \u001b[1m4s\u001b[0m 2ms/step - accuracy: 0.5144 - loss: 0.6929 - val_accuracy: 0.5170 - val_loss: 0.6926\n",
      "Epoch 12/50\n",
      "\u001b[1m1850/1850\u001b[0m \u001b[32m━━━━━━━━━━━━━━━━━━━━\u001b[0m\u001b[37m\u001b[0m \u001b[1m4s\u001b[0m 2ms/step - accuracy: 0.5191 - loss: 0.6924 - val_accuracy: 0.5170 - val_loss: 0.6926\n",
      "Epoch 13/50\n",
      "\u001b[1m1850/1850\u001b[0m \u001b[32m━━━━━━━━━━━━━━━━━━━━\u001b[0m\u001b[37m\u001b[0m \u001b[1m4s\u001b[0m 2ms/step - accuracy: 0.5179 - loss: 0.6925 - val_accuracy: 0.5170 - val_loss: 0.6926\n",
      "Epoch 14/50\n",
      "\u001b[1m1850/1850\u001b[0m \u001b[32m━━━━━━━━━━━━━━━━━━━━\u001b[0m\u001b[37m\u001b[0m \u001b[1m4s\u001b[0m 2ms/step - accuracy: 0.5135 - loss: 0.6928 - val_accuracy: 0.5170 - val_loss: 0.6926\n",
      "Epoch 15/50\n",
      "\u001b[1m1850/1850\u001b[0m \u001b[32m━━━━━━━━━━━━━━━━━━━━\u001b[0m\u001b[37m\u001b[0m \u001b[1m4s\u001b[0m 2ms/step - accuracy: 0.5151 - loss: 0.6928 - val_accuracy: 0.5170 - val_loss: 0.6926\n",
      "Epoch 16/50\n",
      "\u001b[1m1850/1850\u001b[0m \u001b[32m━━━━━━━━━━━━━━━━━━━━\u001b[0m\u001b[37m\u001b[0m \u001b[1m4s\u001b[0m 2ms/step - accuracy: 0.5188 - loss: 0.6925 - val_accuracy: 0.5170 - val_loss: 0.6926\n",
      "Epoch 17/50\n",
      "\u001b[1m1850/1850\u001b[0m \u001b[32m━━━━━━━━━━━━━━━━━━━━\u001b[0m\u001b[37m\u001b[0m \u001b[1m4s\u001b[0m 2ms/step - accuracy: 0.5149 - loss: 0.6927 - val_accuracy: 0.5170 - val_loss: 0.6926\n",
      "Epoch 18/50\n",
      "\u001b[1m1850/1850\u001b[0m \u001b[32m━━━━━━━━━━━━━━━━━━━━\u001b[0m\u001b[37m\u001b[0m \u001b[1m4s\u001b[0m 2ms/step - accuracy: 0.5192 - loss: 0.6924 - val_accuracy: 0.5170 - val_loss: 0.6926\n",
      "Epoch 19/50\n",
      "\u001b[1m1850/1850\u001b[0m \u001b[32m━━━━━━━━━━━━━━━━━━━━\u001b[0m\u001b[37m\u001b[0m \u001b[1m4s\u001b[0m 2ms/step - accuracy: 0.5126 - loss: 0.6929 - val_accuracy: 0.5170 - val_loss: 0.6926\n",
      "Epoch 20/50\n",
      "\u001b[1m1850/1850\u001b[0m \u001b[32m━━━━━━━━━━━━━━━━━━━━\u001b[0m\u001b[37m\u001b[0m \u001b[1m4s\u001b[0m 2ms/step - accuracy: 0.5171 - loss: 0.6926 - val_accuracy: 0.5170 - val_loss: 0.6926\n",
      "Epoch 21/50\n",
      "\u001b[1m1850/1850\u001b[0m \u001b[32m━━━━━━━━━━━━━━━━━━━━\u001b[0m\u001b[37m\u001b[0m \u001b[1m4s\u001b[0m 2ms/step - accuracy: 0.5190 - loss: 0.6925 - val_accuracy: 0.5170 - val_loss: 0.6926\n",
      "Epoch 22/50\n",
      "\u001b[1m1850/1850\u001b[0m \u001b[32m━━━━━━━━━━━━━━━━━━━━\u001b[0m\u001b[37m\u001b[0m \u001b[1m4s\u001b[0m 2ms/step - accuracy: 0.5203 - loss: 0.6924 - val_accuracy: 0.5170 - val_loss: 0.6926\n",
      "Epoch 23/50\n",
      "\u001b[1m1850/1850\u001b[0m \u001b[32m━━━━━━━━━━━━━━━━━━━━\u001b[0m\u001b[37m\u001b[0m \u001b[1m4s\u001b[0m 2ms/step - accuracy: 0.5167 - loss: 0.6926 - val_accuracy: 0.5170 - val_loss: 0.6926\n",
      "Epoch 24/50\n",
      "\u001b[1m1850/1850\u001b[0m \u001b[32m━━━━━━━━━━━━━━━━━━━━\u001b[0m\u001b[37m\u001b[0m \u001b[1m4s\u001b[0m 2ms/step - accuracy: 0.5137 - loss: 0.6928 - val_accuracy: 0.5170 - val_loss: 0.6926\n",
      "Epoch 25/50\n",
      "\u001b[1m1850/1850\u001b[0m \u001b[32m━━━━━━━━━━━━━━━━━━━━\u001b[0m\u001b[37m\u001b[0m \u001b[1m4s\u001b[0m 2ms/step - accuracy: 0.5194 - loss: 0.6924 - val_accuracy: 0.5170 - val_loss: 0.6926\n",
      "Epoch 26/50\n",
      "\u001b[1m1850/1850\u001b[0m \u001b[32m━━━━━━━━━━━━━━━━━━━━\u001b[0m\u001b[37m\u001b[0m \u001b[1m4s\u001b[0m 2ms/step - accuracy: 0.5174 - loss: 0.6926 - val_accuracy: 0.5170 - val_loss: 0.6926\n",
      "Epoch 27/50\n",
      "\u001b[1m1850/1850\u001b[0m \u001b[32m━━━━━━━━━━━━━━━━━━━━\u001b[0m\u001b[37m\u001b[0m \u001b[1m4s\u001b[0m 2ms/step - accuracy: 0.5169 - loss: 0.6926 - val_accuracy: 0.5170 - val_loss: 0.6926\n",
      "Epoch 28/50\n",
      "\u001b[1m1850/1850\u001b[0m \u001b[32m━━━━━━━━━━━━━━━━━━━━\u001b[0m\u001b[37m\u001b[0m \u001b[1m4s\u001b[0m 2ms/step - accuracy: 0.5125 - loss: 0.6929 - val_accuracy: 0.5170 - val_loss: 0.6926\n",
      "Epoch 29/50\n",
      "\u001b[1m1850/1850\u001b[0m \u001b[32m━━━━━━━━━━━━━━━━━━━━\u001b[0m\u001b[37m\u001b[0m \u001b[1m4s\u001b[0m 2ms/step - accuracy: 0.5190 - loss: 0.6925 - val_accuracy: 0.5170 - val_loss: 0.6926\n",
      "Epoch 30/50\n",
      "\u001b[1m1850/1850\u001b[0m \u001b[32m━━━━━━━━━━━━━━━━━━━━\u001b[0m\u001b[37m\u001b[0m \u001b[1m4s\u001b[0m 2ms/step - accuracy: 0.5192 - loss: 0.6924 - val_accuracy: 0.5170 - val_loss: 0.6926\n",
      "Epoch 31/50\n",
      "\u001b[1m1850/1850\u001b[0m \u001b[32m━━━━━━━━━━━━━━━━━━━━\u001b[0m\u001b[37m\u001b[0m \u001b[1m4s\u001b[0m 2ms/step - accuracy: 0.5178 - loss: 0.6925 - val_accuracy: 0.5170 - val_loss: 0.6926\n",
      "Epoch 32/50\n",
      "\u001b[1m1850/1850\u001b[0m \u001b[32m━━━━━━━━━━━━━━━━━━━━\u001b[0m\u001b[37m\u001b[0m \u001b[1m4s\u001b[0m 2ms/step - accuracy: 0.5146 - loss: 0.6928 - val_accuracy: 0.5170 - val_loss: 0.6927\n",
      "Epoch 33/50\n",
      "\u001b[1m1850/1850\u001b[0m \u001b[32m━━━━━━━━━━━━━━━━━━━━\u001b[0m\u001b[37m\u001b[0m \u001b[1m4s\u001b[0m 2ms/step - accuracy: 0.5181 - loss: 0.6925 - val_accuracy: 0.5170 - val_loss: 0.6926\n",
      "Epoch 34/50\n",
      "\u001b[1m1850/1850\u001b[0m \u001b[32m━━━━━━━━━━━━━━━━━━━━\u001b[0m\u001b[37m\u001b[0m \u001b[1m4s\u001b[0m 2ms/step - accuracy: 0.5166 - loss: 0.6926 - val_accuracy: 0.5170 - val_loss: 0.6926\n",
      "Epoch 35/50\n",
      "\u001b[1m1850/1850\u001b[0m \u001b[32m━━━━━━━━━━━━━━━━━━━━\u001b[0m\u001b[37m\u001b[0m \u001b[1m4s\u001b[0m 2ms/step - accuracy: 0.5145 - loss: 0.6928 - val_accuracy: 0.5170 - val_loss: 0.6926\n",
      "Epoch 36/50\n",
      "\u001b[1m1850/1850\u001b[0m \u001b[32m━━━━━━━━━━━━━━━━━━━━\u001b[0m\u001b[37m\u001b[0m \u001b[1m4s\u001b[0m 2ms/step - accuracy: 0.5182 - loss: 0.6925 - val_accuracy: 0.5170 - val_loss: 0.6926\n",
      "Epoch 37/50\n",
      "\u001b[1m1850/1850\u001b[0m \u001b[32m━━━━━━━━━━━━━━━━━━━━\u001b[0m\u001b[37m\u001b[0m \u001b[1m4s\u001b[0m 2ms/step - accuracy: 0.5195 - loss: 0.6924 - val_accuracy: 0.5170 - val_loss: 0.6926\n",
      "Epoch 38/50\n",
      "\u001b[1m1850/1850\u001b[0m \u001b[32m━━━━━━━━━━━━━━━━━━━━\u001b[0m\u001b[37m\u001b[0m \u001b[1m4s\u001b[0m 2ms/step - accuracy: 0.5163 - loss: 0.6926 - val_accuracy: 0.5170 - val_loss: 0.6926\n",
      "Epoch 39/50\n",
      "\u001b[1m1850/1850\u001b[0m \u001b[32m━━━━━━━━━━━━━━━━━━━━\u001b[0m\u001b[37m\u001b[0m \u001b[1m4s\u001b[0m 2ms/step - accuracy: 0.5165 - loss: 0.6926 - val_accuracy: 0.5170 - val_loss: 0.6926\n",
      "Epoch 40/50\n",
      "\u001b[1m1850/1850\u001b[0m \u001b[32m━━━━━━━━━━━━━━━━━━━━\u001b[0m\u001b[37m\u001b[0m \u001b[1m4s\u001b[0m 2ms/step - accuracy: 0.5156 - loss: 0.6927 - val_accuracy: 0.5170 - val_loss: 0.6926\n",
      "Epoch 41/50\n",
      "\u001b[1m1850/1850\u001b[0m \u001b[32m━━━━━━━━━━━━━━━━━━━━\u001b[0m\u001b[37m\u001b[0m \u001b[1m4s\u001b[0m 2ms/step - accuracy: 0.5177 - loss: 0.6925 - val_accuracy: 0.5170 - val_loss: 0.6926\n",
      "Epoch 42/50\n",
      "\u001b[1m1850/1850\u001b[0m \u001b[32m━━━━━━━━━━━━━━━━━━━━\u001b[0m\u001b[37m\u001b[0m \u001b[1m4s\u001b[0m 2ms/step - accuracy: 0.5209 - loss: 0.6923 - val_accuracy: 0.5170 - val_loss: 0.6926\n",
      "Epoch 43/50\n",
      "\u001b[1m1850/1850\u001b[0m \u001b[32m━━━━━━━━━━━━━━━━━━━━\u001b[0m\u001b[37m\u001b[0m \u001b[1m4s\u001b[0m 2ms/step - accuracy: 0.5136 - loss: 0.6928 - val_accuracy: 0.5170 - val_loss: 0.6927\n",
      "Epoch 44/50\n",
      "\u001b[1m1850/1850\u001b[0m \u001b[32m━━━━━━━━━━━━━━━━━━━━\u001b[0m\u001b[37m\u001b[0m \u001b[1m4s\u001b[0m 2ms/step - accuracy: 0.5163 - loss: 0.6927 - val_accuracy: 0.5170 - val_loss: 0.6926\n",
      "Epoch 45/50\n",
      "\u001b[1m1850/1850\u001b[0m \u001b[32m━━━━━━━━━━━━━━━━━━━━\u001b[0m\u001b[37m\u001b[0m \u001b[1m4s\u001b[0m 2ms/step - accuracy: 0.5198 - loss: 0.6924 - val_accuracy: 0.5170 - val_loss: 0.6926\n",
      "Epoch 46/50\n",
      "\u001b[1m1850/1850\u001b[0m \u001b[32m━━━━━━━━━━━━━━━━━━━━\u001b[0m\u001b[37m\u001b[0m \u001b[1m4s\u001b[0m 2ms/step - accuracy: 0.5185 - loss: 0.6925 - val_accuracy: 0.5170 - val_loss: 0.6926\n",
      "Epoch 47/50\n",
      "\u001b[1m1850/1850\u001b[0m \u001b[32m━━━━━━━━━━━━━━━━━━━━\u001b[0m\u001b[37m\u001b[0m \u001b[1m4s\u001b[0m 2ms/step - accuracy: 0.5172 - loss: 0.6926 - val_accuracy: 0.5170 - val_loss: 0.6926\n",
      "Epoch 48/50\n",
      "\u001b[1m1850/1850\u001b[0m \u001b[32m━━━━━━━━━━━━━━━━━━━━\u001b[0m\u001b[37m\u001b[0m \u001b[1m4s\u001b[0m 2ms/step - accuracy: 0.5186 - loss: 0.6925 - val_accuracy: 0.5170 - val_loss: 0.6926\n",
      "Epoch 49/50\n",
      "\u001b[1m1850/1850\u001b[0m \u001b[32m━━━━━━━━━━━━━━━━━━━━\u001b[0m\u001b[37m\u001b[0m \u001b[1m4s\u001b[0m 2ms/step - accuracy: 0.5186 - loss: 0.6925 - val_accuracy: 0.5170 - val_loss: 0.6926\n",
      "Epoch 50/50\n",
      "\u001b[1m1850/1850\u001b[0m \u001b[32m━━━━━━━━━━━━━━━━━━━━\u001b[0m\u001b[37m\u001b[0m \u001b[1m4s\u001b[0m 2ms/step - accuracy: 0.5188 - loss: 0.6925 - val_accuracy: 0.5170 - val_loss: 0.6926\n"
     ]
    }
   ],
   "source": [
    "model_02 = Sequential(name='Model_02')\n",
    "model_02.add(layers.Dense(256, activation='relu', input_shape=(768,)))\n",
    "model_02.add(layers.Dense(256, activation='relu'))\n",
    "model_02.add(layers.Dense(128, activation='relu'))\n",
    "model_02.add(layers.Dense(64, activation='relu'))\n",
    "model_02.add(layers.Dense(16, activation='relu'))\n",
    "model_02.add(layers.Dense(1, activation='sigmoid')) #used for binary classficaiton\n",
    "\n",
    "model_02.compile(optimizer='adam', loss='binary_crossentropy', metrics=['accuracy'])\n",
    "model_02.summary()\n",
    "\n",
    "#Train the model\n",
    "\n",
    "history_02 = model_02.fit(x_train_02, y_train_02,\n",
    "                            epochs=50,\n",
    "                            batch_size=32,\n",
    "                            validation_split=0.1)"
   ]
  },
  {
   "cell_type": "code",
   "execution_count": 40,
   "metadata": {
    "execution": {
     "iopub.execute_input": "2024-08-12T19:19:10.705882Z",
     "iopub.status.busy": "2024-08-12T19:19:10.705460Z",
     "iopub.status.idle": "2024-08-12T19:19:11.743510Z",
     "shell.execute_reply": "2024-08-12T19:19:11.742639Z",
     "shell.execute_reply.started": "2024-08-12T19:19:10.705849Z"
    }
   },
   "outputs": [
    {
     "name": "stdout",
     "output_type": "stream",
     "text": [
      "\u001b[1m363/363\u001b[0m \u001b[32m━━━━━━━━━━━━━━━━━━━━\u001b[0m\u001b[37m\u001b[0m \u001b[1m1s\u001b[0m 3ms/step - accuracy: 0.5170 - loss: 0.6926\n"
     ]
    },
    {
     "name": "stderr",
     "output_type": "stream",
     "text": [
      "W0000 00:00:1723490351.731840     419 graph_launch.cc:671] Fallback to op-by-op mode because memset node breaks graph update\n"
     ]
    }
   ],
   "source": [
    "test_ev_02 = model_02.evaluate(x_test_02, y_test_02)"
   ]
  },
  {
   "cell_type": "markdown",
   "metadata": {},
   "source": [
    "**Plot Model 2**"
   ]
  },
  {
   "cell_type": "code",
   "execution_count": 41,
   "metadata": {
    "execution": {
     "iopub.execute_input": "2024-08-12T19:19:17.507981Z",
     "iopub.status.busy": "2024-08-12T19:19:17.507127Z",
     "iopub.status.idle": "2024-08-12T19:19:17.967812Z",
     "shell.execute_reply": "2024-08-12T19:19:17.966903Z",
     "shell.execute_reply.started": "2024-08-12T19:19:17.507949Z"
    }
   },
   "outputs": [
    {
     "data": {
      "image/png": "[encoded data removed]",
      "text/plain": [
       "<Figure size 1400x500 with 2 Axes>"
      ]
     },
     "metadata": {},
     "output_type": "display_data"
    }
   ],
   "source": [
    "plot_training_history(history_02, test_ev_02)"
   ]
  },
  {
   "cell_type": "markdown",
   "metadata": {},
   "source": [
    "For Model 2, in first 2-3 epochs both trainig and validation accuracy increased sharply but then they stayed at the same level (around 0.5) without any further improvement. Again, test accuracy is also around 0.5, which suggessts that the model predicts almost randomly. Similar to model 1, this model also appears to be underfitting, as its ability to learn the patterns from the data is poor."
   ]
  },
  {
   "cell_type": "markdown",
   "metadata": {},
   "source": [
    "**Predictions for Model 2**"
   ]
  },
  {
   "cell_type": "code",
   "execution_count": 42,
   "metadata": {
    "execution": {
     "iopub.execute_input": "2024-08-12T19:19:50.904573Z",
     "iopub.status.busy": "2024-08-12T19:19:50.903838Z",
     "iopub.status.idle": "2024-08-12T19:19:51.374546Z",
     "shell.execute_reply": "2024-08-12T19:19:51.373674Z",
     "shell.execute_reply.started": "2024-08-12T19:19:50.904541Z"
    }
   },
   "outputs": [
    {
     "name": "stdout",
     "output_type": "stream",
     "text": [
      "\u001b[1m1/1\u001b[0m \u001b[32m━━━━━━━━━━━━━━━━━━━━\u001b[0m\u001b[37m\u001b[0m \u001b[1m0s\u001b[0m 419ms/step\n",
      "[1 1 1 1 1 1 1 1 1 1 0 0 0 0 0 0 0 0 0 0]\n",
      "[[-1.831047   1.8313272]\n",
      " [-1.831047   1.8313272]\n",
      " [-1.831047   1.8313272]\n",
      " [-1.831047   1.8313272]\n",
      " [-1.831047   1.8313272]\n",
      " [-1.831047   1.8313272]\n",
      " [-1.831047   1.8313272]\n",
      " [-1.831047   1.8313272]\n",
      " [-1.831047   1.8313272]\n",
      " [-1.831047   1.8313272]\n",
      " [-1.831047   1.8313272]\n",
      " [-1.831047   1.8313272]\n",
      " [-1.831047   1.8313272]\n",
      " [-1.831047   1.8313272]\n",
      " [-1.831047   1.8313272]\n",
      " [-1.831047   1.8313272]\n",
      " [-1.831047   1.8313272]\n",
      " [-1.831047   1.8313272]\n",
      " [-1.831047   1.8313272]\n",
      " [-1.831047   1.8313272]]\n",
      "[1 1 1 1 1 1 1 1 1 1 1 1 1 1 1 1 1 1 1 1]\n"
     ]
    },
    {
     "name": "stderr",
     "output_type": "stream",
     "text": [
      "W0000 00:00:1723490391.365332     421 graph_launch.cc:671] Fallback to op-by-op mode because memset node breaks graph update\n"
     ]
    }
   ],
   "source": [
    "pred_predictions2 = model_02.predict(x_pred_02)\n",
    "pred_labels_array = np.array(pred_labels)\n",
    "print(pred_labels_array)\n",
    "\n",
    "print(pred_predictions)\n",
    "\n",
    "#We set a threshold of 0.5 to assign a class label based on it.\n",
    "#If the probability is greater than or equal to 0.5, the model predicts 1.\n",
    "#Else = 0\n",
    "predicted_classes2 = [1 if prob[0] >= 0.5 else 0 for prob in pred_predictions2]\n",
    "predicted_classes2_array = np.array(predicted_classes2)\n",
    "\n",
    "print(predicted_classes2_array)"
   ]
  },
  {
   "cell_type": "markdown",
   "metadata": {},
   "source": [
    "Model 2 consistently predicts only 1 (as negated) for all true labels. We can truly say that Model 2 does not distiguish between different inputs."
   ]
  },
  {
   "cell_type": "markdown",
   "metadata": {},
   "source": [
    "**Classification report Model 2**"
   ]
  },
  {
   "cell_type": "code",
   "execution_count": 43,
   "metadata": {
    "execution": {
     "iopub.execute_input": "2024-08-12T19:20:28.287492Z",
     "iopub.status.busy": "2024-08-12T19:20:28.286664Z",
     "iopub.status.idle": "2024-08-12T19:20:28.305500Z",
     "shell.execute_reply": "2024-08-12T19:20:28.304507Z",
     "shell.execute_reply.started": "2024-08-12T19:20:28.287453Z"
    }
   },
   "outputs": [
    {
     "name": "stdout",
     "output_type": "stream",
     "text": [
      "Accuracy: 0.5000\n",
      "Macro-F1 Score: 0.3333\n",
      "Detailed Classification Report:\n",
      "              precision    recall  f1-score   support\n",
      "\n",
      "           0       0.00      0.00      0.00        10\n",
      "           1       0.50      1.00      0.67        10\n",
      "\n",
      "    accuracy                           0.50        20\n",
      "   macro avg       0.25      0.50      0.33        20\n",
      "weighted avg       0.25      0.50      0.33        20\n",
      "\n"
     ]
    },
    {
     "name": "stderr",
     "output_type": "stream",
     "text": [
      "/opt/conda/lib/python3.10/site-packages/sklearn/metrics/_classification.py:1344: UndefinedMetricWarning: Precision and F-score are ill-defined and being set to 0.0 in labels with no predicted samples. Use `zero_division` parameter to control this behavior.\n",
      "  _warn_prf(average, modifier, msg_start, len(result))\n",
      "/opt/conda/lib/python3.10/site-packages/sklearn/metrics/_classification.py:1344: UndefinedMetricWarning: Precision and F-score are ill-defined and being set to 0.0 in labels with no predicted samples. Use `zero_division` parameter to control this behavior.\n",
      "  _warn_prf(average, modifier, msg_start, len(result))\n",
      "/opt/conda/lib/python3.10/site-packages/sklearn/metrics/_classification.py:1344: UndefinedMetricWarning: Precision and F-score are ill-defined and being set to 0.0 in labels with no predicted samples. Use `zero_division` parameter to control this behavior.\n",
      "  _warn_prf(average, modifier, msg_start, len(result))\n"
     ]
    },
    {
     "data": {
      "text/plain": [
       "{'accuracy': 0.5,\n",
       " 'macro_f1': 0.3333333333333333,\n",
       " 'classification_report': '              precision    recall  f1-score   support\\n\\n           0       0.00      0.00      0.00        10\\n           1       0.50      1.00      0.67        10\\n\\n    accuracy                           0.50        20\\n   macro avg       0.25      0.50      0.33        20\\nweighted avg       0.25      0.50      0.33        20\\n'}"
      ]
     },
     "execution_count": 43,
     "metadata": {},
     "output_type": "execute_result"
    }
   ],
   "source": [
    "evaluate_classification(pred_labels, predicted_classes2) #results2 ="
   ]
  },
  {
   "cell_type": "markdown",
   "metadata": {},
   "source": [
    "The classification report for Model 2 is nearly identical to that of Model 1, with the main difference being a bias towards predicting class 1. An accuracy of 0.5 accuracy is not a good accuracy for a binary classificaiton task. The low F1-score indicates poor performance, basically this model is no better than Model 1. "
   ]
  },
  {
   "cell_type": "markdown",
   "metadata": {},
   "source": [
    "**Confusion** **matrix** **Model 2**"
   ]
  },
  {
   "cell_type": "code",
   "execution_count": 44,
   "metadata": {
    "execution": {
     "iopub.execute_input": "2024-08-12T19:20:33.153710Z",
     "iopub.status.busy": "2024-08-12T19:20:33.152901Z",
     "iopub.status.idle": "2024-08-12T19:20:33.406723Z",
     "shell.execute_reply": "2024-08-12T19:20:33.405817Z",
     "shell.execute_reply.started": "2024-08-12T19:20:33.153676Z"
    }
   },
   "outputs": [
    {
     "data": {
      "image/png": "[encoded data removed]",
      "text/plain": [
       "<Figure size 640x480 with 2 Axes>"
      ]
     },
     "metadata": {},
     "output_type": "display_data"
    }
   ],
   "source": [
    "#Create confusion matrix and normalizes it over predicted (columns)\n",
    "result2 = confusion_matrix(pred_labels_array, predicted_classes2 , normalize='pred', labels=[1,0] )\n",
    "\n",
    "# visualize confusion matrix with sklearn metrics\n",
    "# define matrix and create labels\n",
    "result_display2 = metrics.ConfusionMatrixDisplay(confusion_matrix = result2, display_labels = [\"1\", \"0\"])\n",
    "\n",
    "# display matrix\n",
    "result_display2.plot()\n",
    "plt.show()"
   ]
  },
  {
   "cell_type": "markdown",
   "metadata": {},
   "source": [
    "Confusion matrix: It is the same as Model 1 except the tendency of predicting 1 (negated) than 0(non-negated). \n",
    "\n",
    "e.g: >\n",
    "\n",
    "[TP, FP]\n",
    "\n",
    "[FN, TN]\n",
    "\n",
    "\n",
    "\n",
    "\n"
   ]
  },
  {
   "cell_type": "markdown",
   "metadata": {},
   "source": [
    "### Model 3"
   ]
  },
  {
   "cell_type": "markdown",
   "metadata": {},
   "source": [
    "We created a sequential neural network with 1 LSTM layer followed by dense layers."
   ]
  },
  {
   "cell_type": "code",
   "execution_count": 45,
   "metadata": {
    "execution": {
     "iopub.execute_input": "2024-08-12T19:20:37.508485Z",
     "iopub.status.busy": "2024-08-12T19:20:37.507651Z",
     "iopub.status.idle": "2024-08-12T19:20:37.683961Z",
     "shell.execute_reply": "2024-08-12T19:20:37.683117Z",
     "shell.execute_reply.started": "2024-08-12T19:20:37.508452Z"
    }
   },
   "outputs": [
    {
     "name": "stderr",
     "output_type": "stream",
     "text": [
      "/opt/conda/lib/python3.10/site-packages/keras/src/layers/rnn/rnn.py:204: UserWarning: Do not pass an `input_shape`/`input_dim` argument to a layer. When using Sequential models, prefer using an `Input(shape)` object as the first layer in the model instead.\n",
      "  super().__init__(**kwargs)\n"
     ]
    },
    {
     "data": {
      "text/html": [
       "<pre style=\"white-space:pre;overflow-x:auto;line-height:normal;font-family:Menlo,'DejaVu Sans Mono',consolas,'Courier New',monospace\"><span style=\"font-weight: bold\">Model: \"Model_03\"</span>\n",
       "</pre>\n"
      ],
      "text/plain": [
       "\u001b[1mModel: \"Model_03\"\u001b[0m\n"
      ]
     },
     "metadata": {},
     "output_type": "display_data"
    },
    {
     "data": {
      "text/html": [
       "<pre style=\"white-space:pre;overflow-x:auto;line-height:normal;font-family:Menlo,'DejaVu Sans Mono',consolas,'Courier New',monospace\">┏━━━━━━━━━━━━━━━━━━━━━━━━━━━━━━━━━┳━━━━━━━━━━━━━━━━━━━━━━━━┳━━━━━━━━━━━━━━━┓\n",
       "┃<span style=\"font-weight: bold\"> Layer (type)                    </span>┃<span style=\"font-weight: bold\"> Output Shape           </span>┃<span style=\"font-weight: bold\">       Param # </span>┃\n",
       "┡━━━━━━━━━━━━━━━━━━━━━━━━━━━━━━━━━╇━━━━━━━━━━━━━━━━━━━━━━━━╇━━━━━━━━━━━━━━━┩\n",
       "│ lstm (<span style=\"color: #0087ff; text-decoration-color: #0087ff\">LSTM</span>)                     │ (<span style=\"color: #00d7ff; text-decoration-color: #00d7ff\">None</span>, <span style=\"color: #00af00; text-decoration-color: #00af00\">128</span>)            │       <span style=\"color: #00af00; text-decoration-color: #00af00\">459,264</span> │\n",
       "├─────────────────────────────────┼────────────────────────┼───────────────┤\n",
       "│ dense_6 (<span style=\"color: #0087ff; text-decoration-color: #0087ff\">Dense</span>)                 │ (<span style=\"color: #00d7ff; text-decoration-color: #00d7ff\">None</span>, <span style=\"color: #00af00; text-decoration-color: #00af00\">32</span>)             │         <span style=\"color: #00af00; text-decoration-color: #00af00\">4,128</span> │\n",
       "├─────────────────────────────────┼────────────────────────┼───────────────┤\n",
       "│ dense_7 (<span style=\"color: #0087ff; text-decoration-color: #0087ff\">Dense</span>)                 │ (<span style=\"color: #00d7ff; text-decoration-color: #00d7ff\">None</span>, <span style=\"color: #00af00; text-decoration-color: #00af00\">1</span>)              │            <span style=\"color: #00af00; text-decoration-color: #00af00\">33</span> │\n",
       "└─────────────────────────────────┴────────────────────────┴───────────────┘\n",
       "</pre>\n"
      ],
      "text/plain": [
       "┏━━━━━━━━━━━━━━━━━━━━━━━━━━━━━━━━━┳━━━━━━━━━━━━━━━━━━━━━━━━┳━━━━━━━━━━━━━━━┓\n",
       "┃\u001b[1m \u001b[0m\u001b[1mLayer (type)                   \u001b[0m\u001b[1m \u001b[0m┃\u001b[1m \u001b[0m\u001b[1mOutput Shape          \u001b[0m\u001b[1m \u001b[0m┃\u001b[1m \u001b[0m\u001b[1m      Param #\u001b[0m\u001b[1m \u001b[0m┃\n",
       "┡━━━━━━━━━━━━━━━━━━━━━━━━━━━━━━━━━╇━━━━━━━━━━━━━━━━━━━━━━━━╇━━━━━━━━━━━━━━━┩\n",
       "│ lstm (\u001b[38;5;33mLSTM\u001b[0m)                     │ (\u001b[38;5;45mNone\u001b[0m, \u001b[38;5;34m128\u001b[0m)            │       \u001b[38;5;34m459,264\u001b[0m │\n",
       "├─────────────────────────────────┼────────────────────────┼───────────────┤\n",
       "│ dense_6 (\u001b[38;5;33mDense\u001b[0m)                 │ (\u001b[38;5;45mNone\u001b[0m, \u001b[38;5;34m32\u001b[0m)             │         \u001b[38;5;34m4,128\u001b[0m │\n",
       "├─────────────────────────────────┼────────────────────────┼───────────────┤\n",
       "│ dense_7 (\u001b[38;5;33mDense\u001b[0m)                 │ (\u001b[38;5;45mNone\u001b[0m, \u001b[38;5;34m1\u001b[0m)              │            \u001b[38;5;34m33\u001b[0m │\n",
       "└─────────────────────────────────┴────────────────────────┴───────────────┘\n"
      ]
     },
     "metadata": {},
     "output_type": "display_data"
    },
    {
     "data": {
      "text/html": [
       "<pre style=\"white-space:pre;overflow-x:auto;line-height:normal;font-family:Menlo,'DejaVu Sans Mono',consolas,'Courier New',monospace\"><span style=\"font-weight: bold\"> Total params: </span><span style=\"color: #00af00; text-decoration-color: #00af00\">463,425</span> (1.77 MB)\n",
       "</pre>\n"
      ],
      "text/plain": [
       "\u001b[1m Total params: \u001b[0m\u001b[38;5;34m463,425\u001b[0m (1.77 MB)\n"
      ]
     },
     "metadata": {},
     "output_type": "display_data"
    },
    {
     "data": {
      "text/html": [
       "<pre style=\"white-space:pre;overflow-x:auto;line-height:normal;font-family:Menlo,'DejaVu Sans Mono',consolas,'Courier New',monospace\"><span style=\"font-weight: bold\"> Trainable params: </span><span style=\"color: #00af00; text-decoration-color: #00af00\">463,425</span> (1.77 MB)\n",
       "</pre>\n"
      ],
      "text/plain": [
       "\u001b[1m Trainable params: \u001b[0m\u001b[38;5;34m463,425\u001b[0m (1.77 MB)\n"
      ]
     },
     "metadata": {},
     "output_type": "display_data"
    },
    {
     "data": {
      "text/html": [
       "<pre style=\"white-space:pre;overflow-x:auto;line-height:normal;font-family:Menlo,'DejaVu Sans Mono',consolas,'Courier New',monospace\"><span style=\"font-weight: bold\"> Non-trainable params: </span><span style=\"color: #00af00; text-decoration-color: #00af00\">0</span> (0.00 B)\n",
       "</pre>\n"
      ],
      "text/plain": [
       "\u001b[1m Non-trainable params: \u001b[0m\u001b[38;5;34m0\u001b[0m (0.00 B)\n"
      ]
     },
     "metadata": {},
     "output_type": "display_data"
    }
   ],
   "source": [
    "model_03 = Sequential(name='Model_03')\n",
    "\n",
    "model_03.add(layers.LSTM(128, input_shape=(32, 768)))  # Add LSTM layer with 64 units, input = (seq_length, vector_size)\n",
    "model_03.add(layers.Dense(32, activation='relu'))\n",
    "model_03.add(layers.Dense(1, activation='sigmoid'))\n",
    "\n",
    "model_03.compile(optimizer='adam', loss='binary_crossentropy', metrics=['accuracy'])\n",
    "model_03.summary()"
   ]
  },
  {
   "cell_type": "code",
   "execution_count": 46,
   "metadata": {
    "execution": {
     "iopub.execute_input": "2024-08-12T19:21:42.767763Z",
     "iopub.status.busy": "2024-08-12T19:21:42.767380Z",
     "iopub.status.idle": "2024-08-12T19:23:08.484938Z",
     "shell.execute_reply": "2024-08-12T19:23:08.483875Z",
     "shell.execute_reply.started": "2024-08-12T19:21:42.767733Z"
    }
   },
   "outputs": [
    {
     "name": "stdout",
     "output_type": "stream",
     "text": [
      "Epoch 1/20\n",
      "\u001b[1m563/563\u001b[0m \u001b[32m━━━━━━━━━━━━━━━━━━━━\u001b[0m\u001b[37m\u001b[0m \u001b[1m7s\u001b[0m 8ms/step - accuracy: 0.5084 - loss: 0.6968 - val_accuracy: 0.5085 - val_loss: 0.6932\n",
      "Epoch 2/20\n",
      "\u001b[1m563/563\u001b[0m \u001b[32m━━━━━━━━━━━━━━━━━━━━\u001b[0m\u001b[37m\u001b[0m \u001b[1m4s\u001b[0m 7ms/step - accuracy: 0.5191 - loss: 0.6923 - val_accuracy: 0.5142 - val_loss: 0.6927\n",
      "Epoch 3/20\n",
      "\u001b[1m563/563\u001b[0m \u001b[32m━━━━━━━━━━━━━━━━━━━━\u001b[0m\u001b[37m\u001b[0m \u001b[1m4s\u001b[0m 7ms/step - accuracy: 0.5214 - loss: 0.6912 - val_accuracy: 0.5123 - val_loss: 0.6933\n",
      "Epoch 4/20\n",
      "\u001b[1m563/563\u001b[0m \u001b[32m━━━━━━━━━━━━━━━━━━━━\u001b[0m\u001b[37m\u001b[0m \u001b[1m4s\u001b[0m 7ms/step - accuracy: 0.5252 - loss: 0.6903 - val_accuracy: 0.5182 - val_loss: 0.6941\n",
      "Epoch 5/20\n",
      "\u001b[1m563/563\u001b[0m \u001b[32m━━━━━━━━━━━━━━━━━━━━\u001b[0m\u001b[37m\u001b[0m \u001b[1m4s\u001b[0m 7ms/step - accuracy: 0.5334 - loss: 0.6877 - val_accuracy: 0.5138 - val_loss: 0.6955\n",
      "Epoch 6/20\n",
      "\u001b[1m563/563\u001b[0m \u001b[32m━━━━━━━━━━━━━━━━━━━━\u001b[0m\u001b[37m\u001b[0m \u001b[1m4s\u001b[0m 7ms/step - accuracy: 0.5562 - loss: 0.6787 - val_accuracy: 0.5107 - val_loss: 0.7003\n",
      "Epoch 7/20\n",
      "\u001b[1m563/563\u001b[0m \u001b[32m━━━━━━━━━━━━━━━━━━━━\u001b[0m\u001b[37m\u001b[0m \u001b[1m4s\u001b[0m 7ms/step - accuracy: 0.5859 - loss: 0.6648 - val_accuracy: 0.4942 - val_loss: 0.7162\n",
      "Epoch 8/20\n",
      "\u001b[1m563/563\u001b[0m \u001b[32m━━━━━━━━━━━━━━━━━━━━\u001b[0m\u001b[37m\u001b[0m \u001b[1m4s\u001b[0m 7ms/step - accuracy: 0.6248 - loss: 0.6368 - val_accuracy: 0.4945 - val_loss: 0.7391\n",
      "Epoch 9/20\n",
      "\u001b[1m563/563\u001b[0m \u001b[32m━━━━━━━━━━━━━━━━━━━━\u001b[0m\u001b[37m\u001b[0m \u001b[1m4s\u001b[0m 7ms/step - accuracy: 0.6624 - loss: 0.5995 - val_accuracy: 0.5048 - val_loss: 0.7728\n",
      "Epoch 10/20\n",
      "\u001b[1m563/563\u001b[0m \u001b[32m━━━━━━━━━━━━━━━━━━━━\u001b[0m\u001b[37m\u001b[0m \u001b[1m4s\u001b[0m 7ms/step - accuracy: 0.7134 - loss: 0.5463 - val_accuracy: 0.4945 - val_loss: 0.8663\n",
      "Epoch 11/20\n",
      "\u001b[1m563/563\u001b[0m \u001b[32m━━━━━━━━━━━━━━━━━━━━\u001b[0m\u001b[37m\u001b[0m \u001b[1m4s\u001b[0m 7ms/step - accuracy: 0.7586 - loss: 0.4803 - val_accuracy: 0.5110 - val_loss: 0.9472\n",
      "Epoch 12/20\n",
      "\u001b[1m563/563\u001b[0m \u001b[32m━━━━━━━━━━━━━━━━━━━━\u001b[0m\u001b[37m\u001b[0m \u001b[1m4s\u001b[0m 7ms/step - accuracy: 0.8022 - loss: 0.4118 - val_accuracy: 0.5060 - val_loss: 1.0631\n",
      "Epoch 13/20\n",
      "\u001b[1m563/563\u001b[0m \u001b[32m━━━━━━━━━━━━━━━━━━━━\u001b[0m\u001b[37m\u001b[0m \u001b[1m4s\u001b[0m 7ms/step - accuracy: 0.8430 - loss: 0.3443 - val_accuracy: 0.5060 - val_loss: 1.2174\n",
      "Epoch 14/20\n",
      "\u001b[1m563/563\u001b[0m \u001b[32m━━━━━━━━━━━━━━━━━━━━\u001b[0m\u001b[37m\u001b[0m \u001b[1m4s\u001b[0m 7ms/step - accuracy: 0.8720 - loss: 0.2874 - val_accuracy: 0.5098 - val_loss: 1.3562\n",
      "Epoch 15/20\n",
      "\u001b[1m563/563\u001b[0m \u001b[32m━━━━━━━━━━━━━━━━━━━━\u001b[0m\u001b[37m\u001b[0m \u001b[1m4s\u001b[0m 7ms/step - accuracy: 0.8976 - loss: 0.2380 - val_accuracy: 0.5063 - val_loss: 1.5090\n",
      "Epoch 16/20\n",
      "\u001b[1m563/563\u001b[0m \u001b[32m━━━━━━━━━━━━━━━━━━━━\u001b[0m\u001b[37m\u001b[0m \u001b[1m4s\u001b[0m 7ms/step - accuracy: 0.9155 - loss: 0.1999 - val_accuracy: 0.5090 - val_loss: 1.7230\n",
      "Epoch 17/20\n",
      "\u001b[1m563/563\u001b[0m \u001b[32m━━━━━━━━━━━━━━━━━━━━\u001b[0m\u001b[37m\u001b[0m \u001b[1m4s\u001b[0m 7ms/step - accuracy: 0.9239 - loss: 0.1799 - val_accuracy: 0.5052 - val_loss: 1.8191\n",
      "Epoch 18/20\n",
      "\u001b[1m563/563\u001b[0m \u001b[32m━━━━━━━━━━━━━━━━━━━━\u001b[0m\u001b[37m\u001b[0m \u001b[1m4s\u001b[0m 7ms/step - accuracy: 0.9337 - loss: 0.1572 - val_accuracy: 0.5065 - val_loss: 2.0170\n",
      "Epoch 19/20\n",
      "\u001b[1m563/563\u001b[0m \u001b[32m━━━━━━━━━━━━━━━━━━━━\u001b[0m\u001b[37m\u001b[0m \u001b[1m4s\u001b[0m 7ms/step - accuracy: 0.9408 - loss: 0.1426 - val_accuracy: 0.5100 - val_loss: 2.0901\n",
      "Epoch 20/20\n",
      "\u001b[1m563/563\u001b[0m \u001b[32m━━━━━━━━━━━━━━━━━━━━\u001b[0m\u001b[37m\u001b[0m \u001b[1m5s\u001b[0m 7ms/step - accuracy: 0.9453 - loss: 0.1289 - val_accuracy: 0.5073 - val_loss: 2.0970\n"
     ]
    }
   ],
   "source": [
    "history_03 = model_03.fit(x_train_03, y_train_03,\n",
    "                        epochs=20,\n",
    "                        batch_size=64,\n",
    "                        validation_split=0.1)"
   ]
  },
  {
   "cell_type": "code",
   "execution_count": 47,
   "metadata": {
    "execution": {
     "iopub.execute_input": "2024-08-12T19:23:18.254416Z",
     "iopub.status.busy": "2024-08-12T19:23:18.254066Z",
     "iopub.status.idle": "2024-08-12T19:23:20.476164Z",
     "shell.execute_reply": "2024-08-12T19:23:20.475413Z",
     "shell.execute_reply.started": "2024-08-12T19:23:18.254391Z"
    }
   },
   "outputs": [
    {
     "name": "stdout",
     "output_type": "stream",
     "text": [
      "\u001b[1m363/363\u001b[0m \u001b[32m━━━━━━━━━━━━━━━━━━━━\u001b[0m\u001b[37m\u001b[0m \u001b[1m1s\u001b[0m 3ms/step - accuracy: 0.5010 - loss: 2.1454\n"
     ]
    }
   ],
   "source": [
    "test_ev_03 = model_03.evaluate(x_test_03, y_test_03)"
   ]
  },
  {
   "cell_type": "markdown",
   "metadata": {},
   "source": [
    "**Plot Model 3**"
   ]
  },
  {
   "cell_type": "code",
   "execution_count": 48,
   "metadata": {
    "execution": {
     "iopub.execute_input": "2024-08-12T19:23:28.084339Z",
     "iopub.status.busy": "2024-08-12T19:23:28.083571Z",
     "iopub.status.idle": "2024-08-12T19:23:28.547710Z",
     "shell.execute_reply": "2024-08-12T19:23:28.546780Z",
     "shell.execute_reply.started": "2024-08-12T19:23:28.084305Z"
    }
   },
   "outputs": [
    {
     "data": {
      "image/png": "[encoded data removed]",
      "text/plain": [
       "<Figure size 1400x500 with 2 Axes>"
      ]
     },
     "metadata": {},
     "output_type": "display_data"
    }
   ],
   "source": [
    "plot_training_history(history_03, test_ev_03)"
   ]
  },
  {
   "cell_type": "markdown",
   "metadata": {},
   "source": [
    "We observed an upward line for the traning accuracy which indicates that the model is learning well from the training data. However, the validation accuracy stayed same, so even if the model is learning from the data but it isn't generalizing well to the validation data. Also test accuracy is around 0.5 further demonstrates that the model's ability to generalize to unseen data is poor.\n",
    "\n",
    "Training loss is decreasing over the epochs which is consistent with the increaing trainig accuracy. However, the fact that validation loss increases and test loss is similarly high also shows the model's failure to perform on new data. These trends suggests, the model is likely overfitting."
   ]
  },
  {
   "cell_type": "code",
   "execution_count": 49,
   "metadata": {
    "execution": {
     "iopub.execute_input": "2024-08-12T19:23:35.683525Z",
     "iopub.status.busy": "2024-08-12T19:23:35.682790Z",
     "iopub.status.idle": "2024-08-12T19:23:35.835936Z",
     "shell.execute_reply": "2024-08-12T19:23:35.835119Z",
     "shell.execute_reply.started": "2024-08-12T19:23:35.683493Z"
    }
   },
   "outputs": [
    {
     "name": "stdout",
     "output_type": "stream",
     "text": [
      "\u001b[1m1/1\u001b[0m \u001b[32m━━━━━━━━━━━━━━━━━━━━\u001b[0m\u001b[37m\u001b[0m \u001b[1m0s\u001b[0m 105ms/step\n",
      "[1 1 1 1 1 1 1 1 1 1 0 0 0 0 0 0 0 0 0 0]\n",
      "[1 1 0 1 0 1 1 0 1 1 0 0 1 0 1 0 1 0 1 1]\n"
     ]
    }
   ],
   "source": [
    "pred_predictions3 = model_03.predict(x_pred_03)\n",
    "pred_labels_array = np.array(pred_labels)\n",
    "print(pred_labels_array)\n",
    "\n",
    "\n",
    "predicted_classes3 = [1 if prob[0] >= 0.5 else 0 for prob in pred_predictions3]\n",
    "predicted_classes3_array = np.array(predicted_classes3)\n",
    "print(predicted_classes3_array)"
   ]
  },
  {
   "cell_type": "markdown",
   "metadata": {},
   "source": [
    "The model shows the ability to correctly predict samples from both classes, but it also exhibits some inconsistency."
   ]
  },
  {
   "cell_type": "markdown",
   "metadata": {},
   "source": [
    "**Classification report Model 3**"
   ]
  },
  {
   "cell_type": "code",
   "execution_count": 50,
   "metadata": {
    "execution": {
     "iopub.execute_input": "2024-08-12T19:23:40.423775Z",
     "iopub.status.busy": "2024-08-12T19:23:40.423440Z",
     "iopub.status.idle": "2024-08-12T19:23:40.440767Z",
     "shell.execute_reply": "2024-08-12T19:23:40.439813Z",
     "shell.execute_reply.started": "2024-08-12T19:23:40.423752Z"
    }
   },
   "outputs": [
    {
     "name": "stdout",
     "output_type": "stream",
     "text": [
      "Accuracy: 0.6000\n",
      "Macro-F1 Score: 0.5960\n",
      "Detailed Classification Report:\n",
      "              precision    recall  f1-score   support\n",
      "\n",
      "           0       0.62      0.50      0.56        10\n",
      "           1       0.58      0.70      0.64        10\n",
      "\n",
      "    accuracy                           0.60        20\n",
      "   macro avg       0.60      0.60      0.60        20\n",
      "weighted avg       0.60      0.60      0.60        20\n",
      "\n"
     ]
    },
    {
     "data": {
      "text/plain": [
       "{'accuracy': 0.6,\n",
       " 'macro_f1': 0.595959595959596,\n",
       " 'classification_report': '              precision    recall  f1-score   support\\n\\n           0       0.62      0.50      0.56        10\\n           1       0.58      0.70      0.64        10\\n\\n    accuracy                           0.60        20\\n   macro avg       0.60      0.60      0.60        20\\nweighted avg       0.60      0.60      0.60        20\\n'}"
      ]
     },
     "execution_count": 50,
     "metadata": {},
     "output_type": "execute_result"
    }
   ],
   "source": [
    "evaluate_classification(pred_labels, predicted_classes3) #results3 ="
   ]
  },
  {
   "cell_type": "markdown",
   "metadata": {},
   "source": [
    "**Confusion** **matrix** **Model 3**"
   ]
  },
  {
   "cell_type": "code",
   "execution_count": 51,
   "metadata": {
    "execution": {
     "iopub.execute_input": "2024-08-12T19:23:44.254615Z",
     "iopub.status.busy": "2024-08-12T19:23:44.253953Z",
     "iopub.status.idle": "2024-08-12T19:23:44.429397Z",
     "shell.execute_reply": "2024-08-12T19:23:44.428199Z",
     "shell.execute_reply.started": "2024-08-12T19:23:44.254584Z"
    }
   },
   "outputs": [
    {
     "data": {
      "image/png": "[encoded data removed]",
      "text/plain": [
       "<Figure size 640x480 with 2 Axes>"
      ]
     },
     "metadata": {},
     "output_type": "display_data"
    }
   ],
   "source": [
    "#Create confusion matrix and normalizes it over predicted (columns)\n",
    "result3 = confusion_matrix(pred_labels_array, predicted_classes3_array , normalize='pred', labels=[1,0] )\n",
    "\n",
    "# visualize confusion matrix with sklearn metrics\n",
    "# define matrix and create labels\n",
    "result_display3 = metrics.ConfusionMatrixDisplay(confusion_matrix = result3, display_labels = [\"1\", \"0\"])\n",
    "\n",
    "# display matrix\n",
    "result_display3.plot()\n",
    "plt.show()"
   ]
  },
  {
   "cell_type": "markdown",
   "metadata": {},
   "source": [
    "Confusion matrix:\n",
    "\n",
    "e.g: >\n",
    "\n",
    "[TP, FP]\n",
    "\n",
    "[FN, TN]\n",
    "\n",
    "The Model 3 ;\n",
    "\n",
    "TP: correctly predicted 1 for 58% of the instances 1.\n",
    "\n",
    "TN: correctly predicted 0 for 62% of the instances 0.\n",
    "\n",
    "FN: incorrectly predicted 0 for 38% of the instances 1.\n",
    "\n",
    "FP: incorrectly predicted 1 for 42% of the instances 0.\n",
    "\n",
    "This model is a somewhat balanced."
   ]
  },
  {
   "cell_type": "markdown",
   "metadata": {},
   "source": [
    "# Final evaluation"
   ]
  },
  {
   "cell_type": "code",
   "execution_count": 52,
   "metadata": {
    "execution": {
     "iopub.execute_input": "2024-08-12T19:23:49.877664Z",
     "iopub.status.busy": "2024-08-12T19:23:49.877021Z",
     "iopub.status.idle": "2024-08-12T19:23:50.343790Z",
     "shell.execute_reply": "2024-08-12T19:23:50.342732Z",
     "shell.execute_reply.started": "2024-08-12T19:23:49.877634Z"
    }
   },
   "outputs": [
    {
     "data": {
      "text/plain": [
       "<Figure size 640x480 with 0 Axes>"
      ]
     },
     "metadata": {},
     "output_type": "display_data"
    },
    {
     "data": {
      "image/png": "[encoded data removed]",
      "text/plain": [
       "<Figure size 900x400 with 4 Axes>"
      ]
     },
     "metadata": {},
     "output_type": "display_data"
    }
   ],
   "source": [
    "# with gpt\n",
    "plt.clf()\n",
    "\n",
    "fig = plt.figure(figsize=(9, 4)) #figsize=(10, 6)\n",
    "#Plot the Confusion Matrix for GPT-2\n",
    "sp1 = plt.subplot(1, 4, 1)\n",
    "result_display.plot(ax=sp1)\n",
    "plt.gca().images[-1].colorbar.remove()\n",
    "plt.title(\"GPT-2\")\n",
    "\n",
    "#Plot the Confusion Matrix for Model 1\n",
    "sp1 = plt.subplot(1, 4, 2)\n",
    "result_display1.plot(ax=sp1)\n",
    "plt.gca().images[-1].colorbar.remove()\n",
    "plt.title(\"Model 1\")\n",
    "\n",
    "#Plot the Confusion Matrix for Model 2\n",
    "sp2 = plt.subplot(1, 4, 3)\n",
    "result_display2.plot(ax=sp2)\n",
    "plt.gca().images[-1].colorbar.remove()\n",
    "plt.title(\"Model 2\")\n",
    "\n",
    "#Plot the Confusion Matrix for Model 3\n",
    "sp3 = plt.subplot(1, 4, 4)\n",
    "result_display3.plot(ax=sp3)\n",
    "plt.gca().images[-1].colorbar.remove()\n",
    "plt.title(\"Model 3\")\n",
    "\n",
    "plt.show()"
   ]
  },
  {
   "cell_type": "markdown",
   "metadata": {},
   "source": [
    "When we compare the models, it is seen that GPT-Neo, Model1(Bert classifer), Model2(sequential) all exhibits similarly poor performance and can be considered to have failed in the negation binary classification task. However, Model 3(with LSTM layer) stands out as it performs better, correctly identifying more than half of the instances in both classes.\n",
    "\n",
    "\n",
    "!!! It is important to note that, as is generally accepted, the task of identifying negation in texts is challenging for deep learning models. These models often struggle to capture linguistic cues, as negation can significantly alter the overall meaning of a sentence. \n",
    "\n",
    "Especially for our Model 2, I was only able to use the part of the training data which likely impacted the learning and performance. However, I have some doubt that using the full dataset would have made a significant difference.\n",
    "\n",
    "To improve these models, we might consider using more sophisticated techniques or maybe chossing a different dataset since our dataset also includes some sentences/words that are hard to comprehend, even without negation. These improvements can be implemented to better handle negations. !!!"
   ]
  },
  {
   "cell_type": "code",
   "execution_count": 53,
   "metadata": {
    "execution": {
     "iopub.execute_input": "2024-08-12T19:23:54.716517Z",
     "iopub.status.busy": "2024-08-12T19:23:54.715810Z",
     "iopub.status.idle": "2024-08-12T19:23:55.096535Z",
     "shell.execute_reply": "2024-08-12T19:23:55.095116Z",
     "shell.execute_reply.started": "2024-08-12T19:23:54.716484Z"
    }
   },
   "outputs": [
    {
     "data": {
      "text/plain": [
       "<Figure size 640x480 with 0 Axes>"
      ]
     },
     "metadata": {},
     "output_type": "display_data"
    },
    {
     "data": {
      "image/png": "[encoded data removed]",
      "text/plain": [
       "<Figure size 900x400 with 3 Axes>"
      ]
     },
     "metadata": {},
     "output_type": "display_data"
    }
   ],
   "source": [
    "#without gpt\n",
    "plt.clf()\n",
    "\n",
    "fig = plt.figure(figsize=(9, 4)) #figsize=(10, 6)\n",
    "\n",
    "sp1 = plt.subplot(1, 3, 1)\n",
    "result_display1.plot(ax=sp1) #, colorbar=False\n",
    "plt.gca().images[-1].colorbar.remove()\n",
    "plt.title(\"Model 1\")\n",
    "\n",
    "\n",
    "sp2 = plt.subplot(1, 3, 2)\n",
    "result_display2.plot(ax=sp2)\n",
    "plt.gca().images[-1].colorbar.remove()\n",
    "plt.title(\"Model 2\")\n",
    "\n",
    "\n",
    "sp3 = plt.subplot(1, 3, 3)\n",
    "result_display3.plot(ax=sp3)\n",
    "plt.gca().images[-1].colorbar.remove()\n",
    "plt.title(\"Model 3\")\n",
    "\n",
    "plt.show()"
   ]
  },
  {
   "cell_type": "markdown",
   "metadata": {},
   "source": [
    "**Table with all the predictions:**"
   ]
  },
  {
   "cell_type": "code",
   "execution_count": 54,
   "metadata": {
    "execution": {
     "iopub.execute_input": "2024-08-12T19:24:00.176313Z",
     "iopub.status.busy": "2024-08-12T19:24:00.175913Z",
     "iopub.status.idle": "2024-08-12T19:24:00.200816Z",
     "shell.execute_reply": "2024-08-12T19:24:00.199849Z",
     "shell.execute_reply.started": "2024-08-12T19:24:00.176279Z"
    }
   },
   "outputs": [
    {
     "name": "stderr",
     "output_type": "stream",
     "text": [
      "/tmp/ipykernel_356/978787618.py:24: FutureWarning: Styler.applymap has been deprecated. Use Styler.map instead.\n",
      "  pretty_df = df.style.applymap(highlighter, subset=[\" \"]).hide(axis=\"index\")\n"
     ]
    },
    {
     "data": {
      "text/html": [
       "<style type=\"text/css\">\n",
       "#T_2d043_row0_col0, #T_2d043_row1_col0, #T_2d043_row2_col0, #T_2d043_row3_col0, #T_2d043_row4_col0 {\n",
       "  background-color: plum;\n",
       "}\n",
       "#T_2d043_row5_col0, #T_2d043_row6_col0, #T_2d043_row7_col0, #T_2d043_row8_col0, #T_2d043_row9_col0 {\n",
       "  background-color: lightblue;\n",
       "}\n",
       "#T_2d043_row10_col0, #T_2d043_row11_col0, #T_2d043_row12_col0, #T_2d043_row13_col0, #T_2d043_row14_col0, #T_2d043_row15_col0, #T_2d043_row16_col0, #T_2d043_row17_col0, #T_2d043_row18_col0, #T_2d043_row19_col0 {\n",
       "  background-color: lightgreen;\n",
       "}\n",
       "</style>\n",
       "<table id=\"T_2d043\">\n",
       "  <thead>\n",
       "    <tr>\n",
       "      <th id=\"T_2d043_level0_col0\" class=\"col_heading level0 col0\" > </th>\n",
       "      <th id=\"T_2d043_level0_col1\" class=\"col_heading level0 col1\" >Premise</th>\n",
       "      <th id=\"T_2d043_level0_col2\" class=\"col_heading level0 col2\" >Hypothesis</th>\n",
       "      <th id=\"T_2d043_level0_col3\" class=\"col_heading level0 col3\" >Actual Labels</th>\n",
       "      <th id=\"T_2d043_level0_col4\" class=\"col_heading level0 col4\" >Predicted Labels Model 1</th>\n",
       "      <th id=\"T_2d043_level0_col5\" class=\"col_heading level0 col5\" >Predicted Labels Model 2</th>\n",
       "      <th id=\"T_2d043_level0_col6\" class=\"col_heading level0 col6\" >Predicted Labels Model 3</th>\n",
       "      <th id=\"T_2d043_level0_col7\" class=\"col_heading level0 col7\" >Predicted Labels GPT</th>\n",
       "    </tr>\n",
       "  </thead>\n",
       "  <tbody>\n",
       "    <tr>\n",
       "      <td id=\"T_2d043_row0_col0\" class=\"data row0 col0\" >0</td>\n",
       "      <td id=\"T_2d043_row0_col1\" class=\"data row0 col1\" >That's a good idea.</td>\n",
       "      <td id=\"T_2d043_row0_col2\" class=\"data row0 col2\" >That's an evil idea.</td>\n",
       "      <td id=\"T_2d043_row0_col3\" class=\"data row0 col3\" >1</td>\n",
       "      <td id=\"T_2d043_row0_col4\" class=\"data row0 col4\" >0</td>\n",
       "      <td id=\"T_2d043_row0_col5\" class=\"data row0 col5\" >1</td>\n",
       "      <td id=\"T_2d043_row0_col6\" class=\"data row0 col6\" >1</td>\n",
       "      <td id=\"T_2d043_row0_col7\" class=\"data row0 col7\" >1</td>\n",
       "    </tr>\n",
       "    <tr>\n",
       "      <td id=\"T_2d043_row1_col0\" class=\"data row1 col0\" >1</td>\n",
       "      <td id=\"T_2d043_row1_col1\" class=\"data row1 col1\" >There's something that's not right.</td>\n",
       "      <td id=\"T_2d043_row1_col2\" class=\"data row1 col2\" >There's something that's not incorrect.</td>\n",
       "      <td id=\"T_2d043_row1_col3\" class=\"data row1 col3\" >1</td>\n",
       "      <td id=\"T_2d043_row1_col4\" class=\"data row1 col4\" >0</td>\n",
       "      <td id=\"T_2d043_row1_col5\" class=\"data row1 col5\" >1</td>\n",
       "      <td id=\"T_2d043_row1_col6\" class=\"data row1 col6\" >1</td>\n",
       "      <td id=\"T_2d043_row1_col7\" class=\"data row1 col7\" >1</td>\n",
       "    </tr>\n",
       "    <tr>\n",
       "      <td id=\"T_2d043_row2_col0\" class=\"data row2 col0\" >2</td>\n",
       "      <td id=\"T_2d043_row2_col1\" class=\"data row2 col1\" >He would die before this work was complete.</td>\n",
       "      <td id=\"T_2d043_row2_col2\" class=\"data row2 col2\" >He would die after this work was complete.</td>\n",
       "      <td id=\"T_2d043_row2_col3\" class=\"data row2 col3\" >1</td>\n",
       "      <td id=\"T_2d043_row2_col4\" class=\"data row2 col4\" >0</td>\n",
       "      <td id=\"T_2d043_row2_col5\" class=\"data row2 col5\" >1</td>\n",
       "      <td id=\"T_2d043_row2_col6\" class=\"data row2 col6\" >0</td>\n",
       "      <td id=\"T_2d043_row2_col7\" class=\"data row2 col7\" >1</td>\n",
       "    </tr>\n",
       "    <tr>\n",
       "      <td id=\"T_2d043_row3_col0\" class=\"data row3 col0\" >3</td>\n",
       "      <td id=\"T_2d043_row3_col1\" class=\"data row3 col1\" >It has a high gable roof and marble end chimneys.</td>\n",
       "      <td id=\"T_2d043_row3_col2\" class=\"data row3 col2\" >It has a low gable roof and brick end chimneys.</td>\n",
       "      <td id=\"T_2d043_row3_col3\" class=\"data row3 col3\" >1</td>\n",
       "      <td id=\"T_2d043_row3_col4\" class=\"data row3 col4\" >0</td>\n",
       "      <td id=\"T_2d043_row3_col5\" class=\"data row3 col5\" >1</td>\n",
       "      <td id=\"T_2d043_row3_col6\" class=\"data row3 col6\" >1</td>\n",
       "      <td id=\"T_2d043_row3_col7\" class=\"data row3 col7\" >1</td>\n",
       "    </tr>\n",
       "    <tr>\n",
       "      <td id=\"T_2d043_row4_col0\" class=\"data row4 col0\" >4</td>\n",
       "      <td id=\"T_2d043_row4_col1\" class=\"data row4 col1\" >She often uses deliberately unrealistic characters in her work such as simplified archetypes.</td>\n",
       "      <td id=\"T_2d043_row4_col2\" class=\"data row4 col2\" >She never make use of deliberately unrealistic characters in her work such as simplified archetypes.</td>\n",
       "      <td id=\"T_2d043_row4_col3\" class=\"data row4 col3\" >1</td>\n",
       "      <td id=\"T_2d043_row4_col4\" class=\"data row4 col4\" >0</td>\n",
       "      <td id=\"T_2d043_row4_col5\" class=\"data row4 col5\" >1</td>\n",
       "      <td id=\"T_2d043_row4_col6\" class=\"data row4 col6\" >0</td>\n",
       "      <td id=\"T_2d043_row4_col7\" class=\"data row4 col7\" >1</td>\n",
       "    </tr>\n",
       "    <tr>\n",
       "      <td id=\"T_2d043_row5_col0\" class=\"data row5 col0\" >5</td>\n",
       "      <td id=\"T_2d043_row5_col1\" class=\"data row5 col1\" >She didn't leave.</td>\n",
       "      <td id=\"T_2d043_row5_col2\" class=\"data row5 col2\" >She left.</td>\n",
       "      <td id=\"T_2d043_row5_col3\" class=\"data row5 col3\" >1</td>\n",
       "      <td id=\"T_2d043_row5_col4\" class=\"data row5 col4\" >0</td>\n",
       "      <td id=\"T_2d043_row5_col5\" class=\"data row5 col5\" >1</td>\n",
       "      <td id=\"T_2d043_row5_col6\" class=\"data row5 col6\" >1</td>\n",
       "      <td id=\"T_2d043_row5_col7\" class=\"data row5 col7\" >1</td>\n",
       "    </tr>\n",
       "    <tr>\n",
       "      <td id=\"T_2d043_row6_col0\" class=\"data row6 col0\" >6</td>\n",
       "      <td id=\"T_2d043_row6_col1\" class=\"data row6 col1\" >Its foundations are not Gravel Point, Charlevoix Limestone, Petoskey, and Whiskey Creek.</td>\n",
       "      <td id=\"T_2d043_row6_col2\" class=\"data row6 col2\" >Its formations are Gravel Point, Charlevoix Limestone, Petoskey, and Whiskey Creek.</td>\n",
       "      <td id=\"T_2d043_row6_col3\" class=\"data row6 col3\" >1</td>\n",
       "      <td id=\"T_2d043_row6_col4\" class=\"data row6 col4\" >0</td>\n",
       "      <td id=\"T_2d043_row6_col5\" class=\"data row6 col5\" >1</td>\n",
       "      <td id=\"T_2d043_row6_col6\" class=\"data row6 col6\" >1</td>\n",
       "      <td id=\"T_2d043_row6_col7\" class=\"data row6 col7\" >1</td>\n",
       "    </tr>\n",
       "    <tr>\n",
       "      <td id=\"T_2d043_row7_col0\" class=\"data row7 col0\" >7</td>\n",
       "      <td id=\"T_2d043_row7_col1\" class=\"data row7 col1\" >Looks good in the picture, but this case wasn't a huge disappointment!!</td>\n",
       "      <td id=\"T_2d043_row7_col2\" class=\"data row7 col2\" >Looks good in the picture, but this case was a huge disappointment!!</td>\n",
       "      <td id=\"T_2d043_row7_col3\" class=\"data row7 col3\" >1</td>\n",
       "      <td id=\"T_2d043_row7_col4\" class=\"data row7 col4\" >0</td>\n",
       "      <td id=\"T_2d043_row7_col5\" class=\"data row7 col5\" >1</td>\n",
       "      <td id=\"T_2d043_row7_col6\" class=\"data row7 col6\" >0</td>\n",
       "      <td id=\"T_2d043_row7_col7\" class=\"data row7 col7\" >1</td>\n",
       "    </tr>\n",
       "    <tr>\n",
       "      <td id=\"T_2d043_row8_col0\" class=\"data row8 col0\" >8</td>\n",
       "      <td id=\"T_2d043_row8_col1\" class=\"data row8 col1\" >It doesn't work great with a car charger, especially if you cannot plug in two adapters at the same time.</td>\n",
       "      <td id=\"T_2d043_row8_col2\" class=\"data row8 col2\" >It works great with a car charger, especially if you cannot plug in two adapters at the same time.</td>\n",
       "      <td id=\"T_2d043_row8_col3\" class=\"data row8 col3\" >1</td>\n",
       "      <td id=\"T_2d043_row8_col4\" class=\"data row8 col4\" >0</td>\n",
       "      <td id=\"T_2d043_row8_col5\" class=\"data row8 col5\" >1</td>\n",
       "      <td id=\"T_2d043_row8_col6\" class=\"data row8 col6\" >1</td>\n",
       "      <td id=\"T_2d043_row8_col7\" class=\"data row8 col7\" >1</td>\n",
       "    </tr>\n",
       "    <tr>\n",
       "      <td id=\"T_2d043_row9_col0\" class=\"data row9 col0\" >9</td>\n",
       "      <td id=\"T_2d043_row9_col1\" class=\"data row9 col1\" >External corrosion was not suspected at all.</td>\n",
       "      <td id=\"T_2d043_row9_col2\" class=\"data row9 col2\" >External corrosion was suspected.</td>\n",
       "      <td id=\"T_2d043_row9_col3\" class=\"data row9 col3\" >1</td>\n",
       "      <td id=\"T_2d043_row9_col4\" class=\"data row9 col4\" >0</td>\n",
       "      <td id=\"T_2d043_row9_col5\" class=\"data row9 col5\" >1</td>\n",
       "      <td id=\"T_2d043_row9_col6\" class=\"data row9 col6\" >1</td>\n",
       "      <td id=\"T_2d043_row9_col7\" class=\"data row9 col7\" >1</td>\n",
       "    </tr>\n",
       "    <tr>\n",
       "      <td id=\"T_2d043_row10_col0\" class=\"data row10 col0\" >10</td>\n",
       "      <td id=\"T_2d043_row10_col1\" class=\"data row10 col1\" >They are followed by small oval fruit.</td>\n",
       "      <td id=\"T_2d043_row10_col2\" class=\"data row10 col2\" >They are followed by some fruit.</td>\n",
       "      <td id=\"T_2d043_row10_col3\" class=\"data row10 col3\" >0</td>\n",
       "      <td id=\"T_2d043_row10_col4\" class=\"data row10 col4\" >0</td>\n",
       "      <td id=\"T_2d043_row10_col5\" class=\"data row10 col5\" >1</td>\n",
       "      <td id=\"T_2d043_row10_col6\" class=\"data row10 col6\" >0</td>\n",
       "      <td id=\"T_2d043_row10_col7\" class=\"data row10 col7\" >1</td>\n",
       "    </tr>\n",
       "    <tr>\n",
       "      <td id=\"T_2d043_row11_col0\" class=\"data row11 col0\" >11</td>\n",
       "      <td id=\"T_2d043_row11_col1\" class=\"data row11 col1\" >No, it's the same thing.</td>\n",
       "      <td id=\"T_2d043_row11_col2\" class=\"data row11 col2\" >No, it's not a different thing.</td>\n",
       "      <td id=\"T_2d043_row11_col3\" class=\"data row11 col3\" >0</td>\n",
       "      <td id=\"T_2d043_row11_col4\" class=\"data row11 col4\" >0</td>\n",
       "      <td id=\"T_2d043_row11_col5\" class=\"data row11 col5\" >1</td>\n",
       "      <td id=\"T_2d043_row11_col6\" class=\"data row11 col6\" >0</td>\n",
       "      <td id=\"T_2d043_row11_col7\" class=\"data row11 col7\" >1</td>\n",
       "    </tr>\n",
       "    <tr>\n",
       "      <td id=\"T_2d043_row12_col0\" class=\"data row12 col0\" >12</td>\n",
       "      <td id=\"T_2d043_row12_col1\" class=\"data row12 col1\" >I'm not a good talker either.</td>\n",
       "      <td id=\"T_2d043_row12_col2\" class=\"data row12 col2\" >I'm a bad talker too.</td>\n",
       "      <td id=\"T_2d043_row12_col3\" class=\"data row12 col3\" >0</td>\n",
       "      <td id=\"T_2d043_row12_col4\" class=\"data row12 col4\" >0</td>\n",
       "      <td id=\"T_2d043_row12_col5\" class=\"data row12 col5\" >1</td>\n",
       "      <td id=\"T_2d043_row12_col6\" class=\"data row12 col6\" >1</td>\n",
       "      <td id=\"T_2d043_row12_col7\" class=\"data row12 col7\" >1</td>\n",
       "    </tr>\n",
       "    <tr>\n",
       "      <td id=\"T_2d043_row13_col0\" class=\"data row13 col0\" >13</td>\n",
       "      <td id=\"T_2d043_row13_col1\" class=\"data row13 col1\" >Grisham was close to winning the popular vote.</td>\n",
       "      <td id=\"T_2d043_row13_col2\" class=\"data row13 col2\" >Grisham almost won the popular vote.</td>\n",
       "      <td id=\"T_2d043_row13_col3\" class=\"data row13 col3\" >0</td>\n",
       "      <td id=\"T_2d043_row13_col4\" class=\"data row13 col4\" >0</td>\n",
       "      <td id=\"T_2d043_row13_col5\" class=\"data row13 col5\" >1</td>\n",
       "      <td id=\"T_2d043_row13_col6\" class=\"data row13 col6\" >0</td>\n",
       "      <td id=\"T_2d043_row13_col7\" class=\"data row13 col7\" >1</td>\n",
       "    </tr>\n",
       "    <tr>\n",
       "      <td id=\"T_2d043_row14_col0\" class=\"data row14 col0\" >14</td>\n",
       "      <td id=\"T_2d043_row14_col1\" class=\"data row14 col1\" >Their menu is reasonably priced.</td>\n",
       "      <td id=\"T_2d043_row14_col2\" class=\"data row14 col2\" >Their menu is diverse, and reasonably priced.</td>\n",
       "      <td id=\"T_2d043_row14_col3\" class=\"data row14 col3\" >0</td>\n",
       "      <td id=\"T_2d043_row14_col4\" class=\"data row14 col4\" >0</td>\n",
       "      <td id=\"T_2d043_row14_col5\" class=\"data row14 col5\" >1</td>\n",
       "      <td id=\"T_2d043_row14_col6\" class=\"data row14 col6\" >1</td>\n",
       "      <td id=\"T_2d043_row14_col7\" class=\"data row14 col7\" >1</td>\n",
       "    </tr>\n",
       "    <tr>\n",
       "      <td id=\"T_2d043_row15_col0\" class=\"data row15 col0\" >15</td>\n",
       "      <td id=\"T_2d043_row15_col1\" class=\"data row15 col1\" >Shetty was elected to the Karnataka Legislative Assembly in 1967 from the Puttur constituency.</td>\n",
       "      <td id=\"T_2d043_row15_col2\" class=\"data row15 col2\" >He was elected to the Legislative Assembly from the Puttur constituency.</td>\n",
       "      <td id=\"T_2d043_row15_col3\" class=\"data row15 col3\" >0</td>\n",
       "      <td id=\"T_2d043_row15_col4\" class=\"data row15 col4\" >0</td>\n",
       "      <td id=\"T_2d043_row15_col5\" class=\"data row15 col5\" >1</td>\n",
       "      <td id=\"T_2d043_row15_col6\" class=\"data row15 col6\" >0</td>\n",
       "      <td id=\"T_2d043_row15_col7\" class=\"data row15 col7\" >1</td>\n",
       "    </tr>\n",
       "    <tr>\n",
       "      <td id=\"T_2d043_row16_col0\" class=\"data row16 col0\" >16</td>\n",
       "      <td id=\"T_2d043_row16_col1\" class=\"data row16 col1\" >HMAC_DRBG also has a machine-verified security proof.</td>\n",
       "      <td id=\"T_2d043_row16_col2\" class=\"data row16 col2\" >HMAC_DRBG has a machine-verified security proof.</td>\n",
       "      <td id=\"T_2d043_row16_col3\" class=\"data row16 col3\" >0</td>\n",
       "      <td id=\"T_2d043_row16_col4\" class=\"data row16 col4\" >0</td>\n",
       "      <td id=\"T_2d043_row16_col5\" class=\"data row16 col5\" >1</td>\n",
       "      <td id=\"T_2d043_row16_col6\" class=\"data row16 col6\" >1</td>\n",
       "      <td id=\"T_2d043_row16_col7\" class=\"data row16 col7\" >1</td>\n",
       "    </tr>\n",
       "    <tr>\n",
       "      <td id=\"T_2d043_row17_col0\" class=\"data row17 col0\" >17</td>\n",
       "      <td id=\"T_2d043_row17_col1\" class=\"data row17 col1\" >The contract to buy Solel Solar Systems was signed in October of 2009.</td>\n",
       "      <td id=\"T_2d043_row17_col2\" class=\"data row17 col2\" >In October 2009, Siemens signed a $418-million contract to buy Solel Solar Systems.</td>\n",
       "      <td id=\"T_2d043_row17_col3\" class=\"data row17 col3\" >0</td>\n",
       "      <td id=\"T_2d043_row17_col4\" class=\"data row17 col4\" >0</td>\n",
       "      <td id=\"T_2d043_row17_col5\" class=\"data row17 col5\" >1</td>\n",
       "      <td id=\"T_2d043_row17_col6\" class=\"data row17 col6\" >0</td>\n",
       "      <td id=\"T_2d043_row17_col7\" class=\"data row17 col7\" >1</td>\n",
       "    </tr>\n",
       "    <tr>\n",
       "      <td id=\"T_2d043_row18_col0\" class=\"data row18 col0\" >18</td>\n",
       "      <td id=\"T_2d043_row18_col1\" class=\"data row18 col1\" >The analysis device's wiring is used as a mystical conduit.</td>\n",
       "      <td id=\"T_2d043_row18_col2\" class=\"data row18 col2\" >The wiring in the analysis device is simply used as a mystical conduit.</td>\n",
       "      <td id=\"T_2d043_row18_col3\" class=\"data row18 col3\" >0</td>\n",
       "      <td id=\"T_2d043_row18_col4\" class=\"data row18 col4\" >0</td>\n",
       "      <td id=\"T_2d043_row18_col5\" class=\"data row18 col5\" >1</td>\n",
       "      <td id=\"T_2d043_row18_col6\" class=\"data row18 col6\" >1</td>\n",
       "      <td id=\"T_2d043_row18_col7\" class=\"data row18 col7\" >1</td>\n",
       "    </tr>\n",
       "    <tr>\n",
       "      <td id=\"T_2d043_row19_col0\" class=\"data row19 col0\" >19</td>\n",
       "      <td id=\"T_2d043_row19_col1\" class=\"data row19 col1\" >The pleather case doesn't fit.</td>\n",
       "      <td id=\"T_2d043_row19_col2\" class=\"data row19 col2\" >The case doesn't fit.</td>\n",
       "      <td id=\"T_2d043_row19_col3\" class=\"data row19 col3\" >0</td>\n",
       "      <td id=\"T_2d043_row19_col4\" class=\"data row19 col4\" >0</td>\n",
       "      <td id=\"T_2d043_row19_col5\" class=\"data row19 col5\" >1</td>\n",
       "      <td id=\"T_2d043_row19_col6\" class=\"data row19 col6\" >1</td>\n",
       "      <td id=\"T_2d043_row19_col7\" class=\"data row19 col7\" >1</td>\n",
       "    </tr>\n",
       "  </tbody>\n",
       "</table>\n"
      ],
      "text/plain": [
       "<pandas.io.formats.style.Styler at 0x7c0920fa0a60>"
      ]
     },
     "metadata": {},
     "output_type": "display_data"
    }
   ],
   "source": [
    "table_df = {\n",
    "    \" \": [i for i in range(20)],\n",
    "    \"Premise\": dataset.loc[[i for i in pred_rows], \"premise\"],\n",
    "    \"Hypothesis\": dataset.loc[[i for i in pred_rows], \"hypothesis\"],\n",
    "    \"Actual Labels\": dataset.loc[[i for i in pred_rows], \"label\"],\n",
    "    \"Predicted Labels Model 1\": predicted_classes1,\n",
    "    \"Predicted Labels Model 2\": predicted_classes2,\n",
    "    \"Predicted Labels Model 3\": predicted_classes3,\n",
    "    \"Predicted Labels GPT\": gpt_pred\n",
    "}\n",
    "\n",
    "df = pd.DataFrame(table_df).reset_index(drop=True)\n",
    "\n",
    "def highlighter(cell_value):\n",
    "    if cell_value < 5:\n",
    "        return 'background-color: plum'\n",
    "    elif cell_value < 10:\n",
    "        return 'background-color: lightblue'\n",
    "    elif cell_value < 20:\n",
    "        return 'background-color: lightgreen'\n",
    "    else:\n",
    "        return ''\n",
    "\n",
    "pretty_df = df.style.applymap(highlighter, subset=[\" \"]).hide(axis=\"index\")\n",
    "display(pretty_df)"
   ]
  },
  {
   "cell_type": "markdown",
   "metadata": {},
   "source": [
    "# Sources\n",
    "\n",
    "@misc{anschütz2023correct,\n",
    "      title={This is not correct! Negation-aware Evaluation of Language Generation Systems},\n",
    "      author={Miriam Anschütz and Diego Miguel Lozano and Georg Groh},\n",
    "      year={2023},\n",
    "      eprint={2307.13989},\n",
    "      archivePrefix={arXiv},\n",
    "      primaryClass={cs.CL}\n",
    "}\n",
    "\n",
    "We inspired from:\n",
    "https://keras.io/examples/nlp/semantic_similarity_with_keras_nlp/"
   ]
  }
 ],
 "metadata": {
  "kaggle": {
   "accelerator": "nvidiaTeslaT4",
   "dataSources": [
    {
     "datasetId": 5532158,
     "sourceId": 9157319,
     "sourceType": "datasetVersion"
    },
    {
     "modelId": 2819,
     "modelInstanceId": 4678,
     "sourceId": 6057,
     "sourceType": "modelInstanceVersion"
    }
   ],
   "dockerImageVersionId": 30747,
   "isGpuEnabled": true,
   "isInternetEnabled": true,
   "language": "python",
   "sourceType": "notebook"
  },
  "kernelspec": {
   "display_name": "Python 3 (ipykernel)",
   "language": "python",
   "name": "python3"
  },
  "language_info": {
   "codemirror_mode": {
    "name": "ipython",
    "version": 3
   },
   "file_extension": ".py",
   "mimetype": "text/x-python",
   "name": "python",
   "nbconvert_exporter": "python",
   "pygments_lexer": "ipython3",
   "version": "3.12.0"
  }
 },
 "nbformat": 4,
 "nbformat_minor": 4
}
